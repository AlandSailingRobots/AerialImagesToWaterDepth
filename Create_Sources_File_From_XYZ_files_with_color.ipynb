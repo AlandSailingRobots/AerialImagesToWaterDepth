{
 "cells": [
  {
   "cell_type": "code",
   "execution_count": 1,
   "metadata": {},
   "outputs": [],
   "source": [
    "import os\n",
    "from random import randrange\n",
    "import json"
   ]
  },
  {
   "cell_type": "code",
   "execution_count": 2,
   "metadata": {},
   "outputs": [],
   "source": [
    "created_list=list()\n",
    "colors_list = list()\n",
    "path = 'open_data'\n",
    "coordinate_type = \"epsg:3067\"\n",
    "for line in open('colors.txt'):\n",
    "    colors_list.append(line.strip())\n",
    "def get_unique_color():\n",
    "    number = randrange(len(colors_list))\n",
    "    return colors_list.pop(number)"
   ]
  },
  {
   "cell_type": "code",
   "execution_count": 3,
   "metadata": {},
   "outputs": [],
   "source": [
    "for item in os.listdir(path):\n",
    "    name, extension = item.split('.')\n",
    "    if extension == \"xyz\":\n",
    "        created_list.append(dict(name=name,coordinate_system=coordinate_type,color=get_unique_color(),path='{}/{}'.format(path,name)))"
   ]
  },
  {
   "cell_type": "code",
   "execution_count": 6,
   "metadata": {},
   "outputs": [],
   "source": [
    "with open(path+'/data_sources.json','r+') as json_file:\n",
    "    json.dump(created_list,json_file)"
   ]
  }
 ],
 "metadata": {
  "kernelspec": {
   "display_name": "Python 3",
   "language": "python",
   "name": "python3"
  },
  "language_info": {
   "codemirror_mode": {
    "name": "ipython",
    "version": 3
   },
   "file_extension": ".py",
   "mimetype": "text/x-python",
   "name": "python",
   "nbconvert_exporter": "python",
   "pygments_lexer": "ipython3",
   "version": "3.7.2"
  }
 },
 "nbformat": 4,
 "nbformat_minor": 2
}
