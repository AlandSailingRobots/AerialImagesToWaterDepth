{
 "cells": [
  {
   "cell_type": "code",
   "execution_count": null,
   "metadata": {},
   "outputs": [],
   "source": [
    "from owslib.wmts import WebMapTileService\n",
    "from IPython.display import Image, display\n",
    "import time\n",
    "import math\n",
    "import WMTS_General_Map as general\n",
    "config = general.get_config_from_json()"
   ]
  },
  {
   "cell_type": "markdown",
   "metadata": {},
   "source": [
    "## Experimental Testing for getting photo's out of multiple WMTS servers.\n",
    "This Notebook experiments with a way  to get photo's as a datasource to later integrate it into the SailingRobots Website. \n",
    "\n",
    "The static variables like the website and the normal map layer."
   ]
  },
  {
   "cell_type": "code",
   "execution_count": null,
   "metadata": {},
   "outputs": [],
   "source": [
    "try:\n",
    "    wmts_avoin = WebMapTileService(config[\"wmts\"][\"avoin\"])\n",
    "    time.sleep(0.01)\n",
    "    wmts_maasto = WebMapTileService(config[\"wmts\"][\"maasto\"])\n",
    "except Exception as e:\n",
    "    print(e)\n",
    "tile_matrix_set_name = config[\"matrix\"][\"set_name\"]\n",
    "map_layer = config[\"matrix\"][\"map_layer\"][\"orto\"]\n",
    "standardized_rendering_pixel_size = config[\"standardized_rendering_pixel_size\"]"
   ]
  },
  {
   "cell_type": "markdown",
   "metadata": {},
   "source": [
    "Get a single image information calculated by the coordinates given. This is so that we can later get images for multiple points and see which of these is at a certain water depth."
   ]
  },
  {
   "cell_type": "code",
   "execution_count": null,
   "metadata": {},
   "outputs": [],
   "source": [
    "def get_single_height_width(matrix, lat, lon):\n",
    "    delta_width = matrix.tilewidth * standardized_rendering_pixel_size * matrix.scaledenominator\n",
    "    delta_height = matrix.tileheight * standardized_rendering_pixel_size * matrix.scaledenominator\n",
    "    finn_coordinates = general.convert_coordinate_systems(lat=lat, lon=lon, inverse=True)\n",
    "\n",
    "    width = math.trunc((finn_coordinates[0] - matrix.topleftcorner[0]) / delta_width)\n",
    "    height = math.trunc((matrix.topleftcorner[1] - finn_coordinates[1]) / delta_height)\n",
    "    return height, width"
   ]
  },
  {
   "cell_type": "markdown",
   "metadata": {},
   "source": [
    "If the tileset is not given it calculates the matrix and and set's the default level."
   ]
  },
  {
   "cell_type": "code",
   "execution_count": null,
   "metadata": {},
   "outputs": [],
   "source": [
    "def get_column_row_for_coordinate_at_level_single(latitude, longitude, wmts, tileset=None, level=2):\n",
    "    if tileset == None:\n",
    "        tileset = wmts.tilematrixsets[tile_matrix_set_name]\n",
    "        list_of_tilematrixes = list(tileset.tilematrix.keys())\n",
    "    return get_single_height_width(\n",
    "        tileset.tilematrix[list_of_tilematrixes[level]], \n",
    "        lat=latitude, \n",
    "        lon=longitude)"
   ]
  },
  {
   "cell_type": "markdown",
   "metadata": {},
   "source": [
    "This method executes the other methods and displays the image. "
   ]
  },
  {
   "cell_type": "code",
   "execution_count": null,
   "metadata": {},
   "outputs": [],
   "source": [
    "def get_image_for_coordinate(latitude, longitude, level, wmts_, specified_map_layer=map_layer):\n",
    "    codes = get_column_row_for_coordinate_at_level_single(latitude=latitude,\n",
    "                                                          longitude=longitude,\n",
    "                                                          wmts=wmts_,\n",
    "                                                          level=level)\n",
    "    tile = wmts_.gettile(layer=specified_map_layer,\n",
    "                         tilematrixset=tile_matrix_set_name,\n",
    "                         tilematrix='{0}'.format(level),\n",
    "                         row=codes[0],\n",
    "                         column=codes[1],\n",
    "                         format= wmts_.contents[specified_map_layer].formats[0])\n",
    "    display(Image(tile.read()))"
   ]
  },
  {
   "cell_type": "markdown",
   "metadata": {},
   "source": [
    "The execution of getting a certain images from the coordinates file. it also has an infrared option at maasto"
   ]
  },
  {
   "cell_type": "code",
   "execution_count": null,
   "metadata": {},
   "outputs": [],
   "source": [
    "info_dict = general.get_coordinates_from_file()[0]\n",
    "\n",
    "get_image_for_coordinate(info_dict['latitude'], \n",
    "                         info_dict['longitude'], \n",
    "                         info_dict['level'], \n",
    "                         wmts_=wmts_avoin)\n",
    "get_image_for_coordinate(info_dict['latitude'], \n",
    "                         info_dict['longitude'], \n",
    "                         info_dict['level'], \n",
    "                         wmts_=wmts_maasto)\n",
    "get_image_for_coordinate(info_dict['latitude'], \n",
    "                         info_dict['longitude'], \n",
    "                         info_dict['level'], \n",
    "                         wmts_=wmts_maasto, \n",
    "                         specified_map_layer=config[\"matrix\"][\"map_layer\"][\"infrared\"])"
   ]
  }
 ],
 "metadata": {
  "kernelspec": {
   "display_name": "Python 3",
   "language": "python",
   "name": "python3"
  },
  "language_info": {
   "codemirror_mode": {
    "name": "ipython",
    "version": 3
   },
   "file_extension": ".py",
   "mimetype": "text/x-python",
   "name": "python",
   "nbconvert_exporter": "python",
   "pygments_lexer": "ipython3",
   "version": "3.6.6"
  }
 },
 "nbformat": 4,
 "nbformat_minor": 2
}
