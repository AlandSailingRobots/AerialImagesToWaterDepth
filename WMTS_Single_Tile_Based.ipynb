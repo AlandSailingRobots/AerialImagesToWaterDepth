{
 "cells": [
  {
   "cell_type": "code",
   "execution_count": null,
   "metadata": {},
   "outputs": [],
   "source": [
    "from owslib.wmts import WebMapTileService\n",
    "from IPython.display import Image, display\n",
    "import time\n",
    "import math\n",
    "import WMTS_General_Map as general\n",
    "\n",
    "config = general.get_config_from_json()\n"
   ]
  },
  {
   "cell_type": "markdown",
   "metadata": {},
   "source": [
    "## Experimental Testing for getting photo's out of multiple WMTS servers.\n",
    "This Notebook experiments with a way  to get photo's as a datasource to later integrate it into the SailingRobots Website. \n",
    "\n",
    "The static variables like the website and the normal map layer."
   ]
  },
  {
   "cell_type": "code",
   "execution_count": null,
   "metadata": {},
   "outputs": [],
   "source": [
    "for wmts in config[\"wmts\"]:\n",
    "    if \"ignore\" not in wmts:\n",
    "        try:\n",
    "            wmts[\"tile_service\"] = WebMapTileService(wmts[\"url\"])\n",
    "            time.sleep(0.01)\n",
    "        except Exception as e:\n",
    "            print(e, wmts[\"name\"])\n",
    "standardized_rendering_pixel_size = config[\"standardized_rendering_pixel_size\"]\n"
   ]
  },
  {
   "cell_type": "markdown",
   "metadata": {},
   "source": [
    "Get a single image information calculated by the coordinates given. This is so that we can later get images for multiple points and see which of these is at a certain water depth."
   ]
  },
  {
   "cell_type": "code",
   "execution_count": null,
   "metadata": {},
   "outputs": [],
   "source": [
    "def get_single_height_width(matrix, lat, lon, convert):\n",
    "    delta_width = matrix.tilewidth * standardized_rendering_pixel_size * matrix.scaledenominator\n",
    "    delta_height = matrix.tileheight * standardized_rendering_pixel_size * matrix.scaledenominator\n",
    "    if not convert:\n",
    "        finn_coordinates = (lat, lon)\n",
    "    else:\n",
    "        finn_coordinates = general.convert_coordinate_systems(lat=lat, lon=lon, src=convert)\n",
    "    width = math.trunc((finn_coordinates[0] - matrix.topleftcorner[0]) / delta_width)\n",
    "    height = math.trunc((matrix.topleftcorner[1] - finn_coordinates[1]) / delta_height)\n",
    "    return height, width\n"
   ]
  },
  {
   "cell_type": "markdown",
   "metadata": {},
   "source": [
    "If the tileset is not given it calculates the matrix and and set's the default level."
   ]
  },
  {
   "cell_type": "code",
   "execution_count": null,
   "metadata": {},
   "outputs": [],
   "source": [
    "def get_column_row_for_coordinate_at_level_single(latitude, longitude, wmts, tile_matrix_set_name_, convert,\n",
    "                                                  tileset=None, level=2):\n",
    "    if tileset == None:\n",
    "        tileset = wmts.tilematrixsets[tile_matrix_set_name_]\n",
    "        list_of_tilematrixes = list(tileset.tilematrix.keys())\n",
    "    matrix = tileset.tilematrix[list_of_tilematrixes[level]]\n",
    "    codes = get_single_height_width(\n",
    "        matrix,\n",
    "        lat=latitude,\n",
    "        lon=longitude,\n",
    "        convert=convert)\n",
    "    return codes\n"
   ]
  },
  {
   "cell_type": "markdown",
   "metadata": {},
   "source": [
    "This method executes the other methods and displays the image."
   ]
  },
  {
   "cell_type": "code",
   "execution_count": null,
   "metadata": {},
   "outputs": [],
   "source": [
    "def get_level_if_special(level, specified_map_layer, tile_matrix_set_name_, wmts_):\n",
    "    tile_level = '{0}:{1}'.format(tile_matrix_set_name_, level)\n",
    "    tms = wmts_.contents[specified_map_layer]\n",
    "    while tile_level not in tms.tilematrixsetlinks[tile_matrix_set_name_].tilematrixlimits:\n",
    "        level -= 1\n",
    "        tile_level = '{0}:{1}'.format(tile_matrix_set_name_, level)\n",
    "    return level, tile_level\n"
   ]
  },
  {
   "cell_type": "code",
   "execution_count": null,
   "metadata": {},
   "outputs": [],
   "source": [
    "def get_specified_map_layer_if_split_up(column, row, specified_map_layer, tile_level, tile_matrix_set_name_, wmts_):\n",
    "    found = False\n",
    "    i = -1\n",
    "    while not found:\n",
    "        i += 1\n",
    "        tms = wmts_.contents[specified_map_layer + '{0}'.format(i)]\n",
    "        limits = tms.tilematrixsetlinks[tile_matrix_set_name_].tilematrixlimits[tile_level]\n",
    "        if limits.mintilerow <= row <= limits.maxtilerow and limits.mintilecol <= column <= limits.maxtilecol:\n",
    "            found = True\n",
    "        if i > 10:\n",
    "            break\n",
    "    return specified_map_layer + '{0}'.format(i)\n"
   ]
  },
  {
   "cell_type": "code",
   "execution_count": null,
   "metadata": {},
   "outputs": [],
   "source": [
    "def get_image_for_coordinate(latitude, longitude, level, wmts_, tile_matrix_set_name_, specified_map_layer,\n",
    "                             special_level, split_up, convert=False):\n",
    "    tile_level = '{0}'.format(level)\n",
    "    if special_level:\n",
    "        level, tile_level = get_level_if_special(level, specified_map_layer, tile_matrix_set_name_, wmts_)\n",
    "    codes = get_column_row_for_coordinate_at_level_single(latitude=latitude,\n",
    "                                                          longitude=longitude,\n",
    "                                                          wmts=wmts_,\n",
    "                                                          level=level,\n",
    "                                                          tile_matrix_set_name_=tile_matrix_set_name_, convert=convert)\n",
    "    row, column = codes\n",
    "    if split_up:\n",
    "        specified_map_layer = get_specified_map_layer_if_split_up(column, row, specified_map_layer, tile_level,\n",
    "                                                                  tile_matrix_set_name_, wmts_)\n",
    "\n",
    "    tile = wmts_.gettile(layer=specified_map_layer,\n",
    "                         tilematrixset=tile_matrix_set_name_,\n",
    "                         tilematrix='{0}'.format(tile_level),\n",
    "                         row=codes[0],\n",
    "                         column=codes[1],\n",
    "                         format=wmts_.contents[specified_map_layer].formats[-1])\n",
    "    time.sleep(0.1)\n",
    "    return Image(tile.read())\n"
   ]
  },
  {
   "cell_type": "markdown",
   "metadata": {},
   "source": [
    "The execution of getting a certain images from the coordinates file. it also has an infrared option at maasto"
   ]
  },
  {
   "cell_type": "code",
   "execution_count": null,
   "metadata": {},
   "outputs": [],
   "source": [
    "info_dict = general.get_coordinates_from_file()[0]\n",
    "for wmts in config[\"wmts\"]:\n",
    "    if \"ignore\" not in wmts:\n",
    "        for layer in wmts[\"map_layers\"]:\n",
    "            img = get_image_for_coordinate(\n",
    "                info_dict['latitude'],\n",
    "                info_dict['longitude'],\n",
    "                info_dict['level'],\n",
    "                wmts_=wmts[\"tile_service\"],\n",
    "                tile_matrix_set_name_=wmts[\"set_name\"],\n",
    "                specified_map_layer=layer[\"layer\"],\n",
    "                special_level='special_level' in wmts,\n",
    "                split_up='split' in layer,\n",
    "                convert=info_dict['type']\n",
    "            )\n",
    "            display(img)\n"
   ]
  }
 ],
 "metadata": {
  "kernelspec": {
   "display_name": "Python 3",
   "language": "python",
   "name": "python3"
  },
  "language_info": {
   "codemirror_mode": {
    "name": "ipython",
    "version": 3
   },
   "file_extension": ".py",
   "mimetype": "text/x-python",
   "name": "python",
   "nbconvert_exporter": "python",
   "pygments_lexer": "ipython3",
   "version": "3.6.6"
  }
 },
 "nbformat": 4,
 "nbformat_minor": 2
}
