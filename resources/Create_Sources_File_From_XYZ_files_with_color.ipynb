{
 "cells": [
  {
   "cell_type": "code",
   "execution_count": 1,
   "metadata": {},
   "outputs": [],
   "source": [
    "import os\n",
    "from random import randrange\n",
    "import json\n",
    "import urllib.request as req"
   ]
  },
  {
   "cell_type": "code",
   "execution_count": 2,
   "metadata": {},
   "outputs": [],
   "source": [
    "created_list = list()\n",
    "colors_list = list()\n",
    "path = '../open_data'\n",
    "coordinate_type = \"epsg:3067\"\n",
    "for line in open('colors.txt'):\n",
    "    colors_list.append(line.strip())\n",
    "    \n",
    "def get_unique_color():\n",
    "    number = randrange(len(colors_list))\n",
    "    return colors_list.pop(number)\n"
   ]
  },
  {
   "cell_type": "code",
   "execution_count": 3,
   "metadata": {},
   "outputs": [],
   "source": [
    "for url in open('open_data.txt','r'):\n",
    "    filename = url.strip().split('/')[-1]\n",
    "    req.urlretrieve(url, path+'/'+filename)\n",
    "    created_list.append(dict(name=filename.split('.')[0], url=url.strip(), coordinate_system=coordinate_type, color=get_unique_color(),\n",
    "                                 path='{}/{}'.format('open_data', filename)))"
   ]
  },
  {
   "cell_type": "code",
   "execution_count": 4,
   "metadata": {},
   "outputs": [],
   "source": [
    "with open(path + '/data_sources.json', 'r+') as json_file:\n",
    "    json.dump(created_list, json_file,indent=4,sort_keys=True)\n"
   ]
  }
 ],
 "metadata": {
  "kernelspec": {
   "display_name": "Python 3",
   "language": "python",
   "name": "python3"
  },
  "language_info": {
   "codemirror_mode": {
    "name": "ipython",
    "version": 3
   },
   "file_extension": ".py",
   "mimetype": "text/x-python",
   "name": "python",
   "nbconvert_exporter": "python",
   "pygments_lexer": "ipython3",
   "version": "3.7.3"
  }
 },
 "nbformat": 4,
 "nbformat_minor": 2
}
