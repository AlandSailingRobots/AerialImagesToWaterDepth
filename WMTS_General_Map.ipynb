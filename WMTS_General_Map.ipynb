{
 "cells": [
  {
   "cell_type": "code",
   "execution_count": null,
   "metadata": {},
   "outputs": [],
   "source": [
    "#!/usr/bin/env python\n",
    "# coding: utf-8\n",
    "\n",
    "from geopy.distance import great_circle\n",
    "import matplotlib.pyplot as plt\n",
    "import pyproj\n",
    "import json"
   ]
  },
  {
   "cell_type": "code",
   "execution_count": null,
   "metadata": {},
   "outputs": [],
   "source": [
    "def calculate_distance(lat, lon, lat1, lon1):\n",
    "    lat_lon = (lat, lon)\n",
    "    lat_lon1 = (lat1, lon1)\n",
    "    return great_circle(lat_lon, lat_lon1)\n",
    "\n",
    "\n",
    "def distance_meter(lat, lon, lat1, lon1):\n",
    "    return calculate_distance(lat, lon, lat1, lon1).m\n",
    "\n",
    "\n",
    "def distance_kilometer(lat, lon, lat1, lon1):\n",
    "    return calculate_distance(lat, lon, lat1, lon1).km\n",
    "\n",
    "\n",
    "def calculate_distance_finnish(lat, lon, lat1, lon1, distance_type='km'):\n",
    "    get_ = convert_coordinate_systems(lat, lon)\n",
    "    get_1 = convert_coordinate_systems(lat1, lon1)\n",
    "    if distance_type == 'm':\n",
    "        distance_func = distance_meter\n",
    "    else:\n",
    "        distance_func = distance_kilometer\n",
    "    return distance_func(get_[1], get_[0], get_1[1], get_1[0])"
   ]
  },
  {
   "cell_type": "code",
   "execution_count": null,
   "metadata": {},
   "outputs": [],
   "source": [
    "def get_width_height_covered_by_matrix(matrix, standardized_rendering_pixel_size, distance_type=None):\n",
    "    delta_width = matrix.tilewidth * standardized_rendering_pixel_size * matrix.scaledenominator\n",
    "    delta_height = matrix.tileheight * standardized_rendering_pixel_size * matrix.scaledenominator\n",
    "    lon1 = matrix.topleftcorner[0] + delta_width\n",
    "    lat1 = matrix.topleftcorner[1] - delta_height\n",
    "    distance = calculate_distance_finnish(lon=matrix.topleftcorner[0],\n",
    "                                          lat=matrix.topleftcorner[1],\n",
    "                                          lon1=lon1,\n",
    "                                          lat1=lat1, distance_type=distance_type)\n",
    "    return distance"
   ]
  },
  {
   "cell_type": "code",
   "execution_count": null,
   "metadata": {},
   "outputs": [],
   "source": [
    "def plot_rectangles(df):\n",
    "    fig, ax = plt.subplots(1, 1)\n",
    "    color_items = ['blue', 'yellow', 'red', 'green']\n",
    "    count = 0\n",
    "    for x in df.values:\n",
    "        if count == len(color_items):\n",
    "            count = 0\n",
    "        rect = plt.Rectangle((x[0], x[1]), x[2] - x[0], x[3] - x[1], color=color_items[count])\n",
    "        count += 1\n",
    "        ax.add_patch(rect)\n",
    "    ax.autoscale_view()"
   ]
  },
  {
   "cell_type": "code",
   "execution_count": null,
   "metadata": {},
   "outputs": [],
   "source": [
    "def get_info_wmts(wmts, map_layer, tile_matrix_set_name):\n",
    "    print('possible maps:', list(wmts.contents.keys()))\n",
    "    print('possible coordinate system:', list(wmts.tilematrixsets.keys()))\n",
    "    print('possible formats :', list(wmts.contents[map_layer].formats))\n",
    "    print('length of the formats', len(wmts.tilematrixsets[tile_matrix_set_name].tilematrix))"
   ]
  },
  {
   "cell_type": "code",
   "execution_count": null,
   "metadata": {},
   "outputs": [],
   "source": [
    "def convert_coordinate_systems(lat, lon, inverse=False, src='epsg:3067', destination='epsg:4326'):\n",
    "    \"\"\"Converts Coordinate System to a different System.\n",
    "    Default From Finnish System(ETRS-TM35FIN) to WGS84. If inverse is passed then they are swapped around.\n",
    "    returns tuple with 0 being E/Longitude, and 1 begin N/Latitude\n",
    "    \"\"\"\n",
    "    if inverse:\n",
    "        src, destination = destination, src\n",
    "    proj_src = pyproj.Proj(init=src)\n",
    "    proj_dest = pyproj.Proj(init=destination)\n",
    "    transformed = pyproj.transform(proj_src, proj_dest, lon, lat)\n",
    "    return transformed"
   ]
  },
  {
   "cell_type": "code",
   "execution_count": null,
   "metadata": {},
   "outputs": [],
   "source": [
    "def open_json_file(filename):\n",
    "    with open(filename) as f:\n",
    "        data = json.load(f)\n",
    "    return data\n",
    "def get_coordinates_from_file():\n",
    "    return open_json_file('coordinates.json')\n",
    "def get_config_from_json():\n",
    "    return open_json_file('config.json')"
   ]
  }
 ],
 "metadata": {
  "kernelspec": {
   "display_name": "Python 3",
   "language": "python",
   "name": "python3"
  },
  "language_info": {
   "codemirror_mode": {
    "name": "ipython",
    "version": 3
   },
   "file_extension": ".py",
   "mimetype": "text/x-python",
   "name": "python",
   "nbconvert_exporter": "python",
   "pygments_lexer": "ipython3",
   "version": "3.6.6"
  }
 },
 "nbformat": 4,
 "nbformat_minor": 2
}
