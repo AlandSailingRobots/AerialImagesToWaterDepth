{
 "cells": [
  {
   "cell_type": "code",
   "execution_count": 1,
   "metadata": {},
   "outputs": [],
   "source": [
    "from owslib.wmts import WebMapTileService\n",
    "import pandas as pd\n",
    "from IPython.display import Image, display\n",
    "import time\n",
    "import WMTS_General_Map as general\n",
    "config = general.get_config_from_json()"
   ]
  },
  {
   "cell_type": "code",
   "execution_count": 2,
   "metadata": {},
   "outputs": [],
   "source": [
    "try:\n",
    "    wmts_avoin = WebMapTileService(config[\"wmts\"][\"avoin\"])\n",
    "    time.sleep(0.01)\n",
    "    wmts_maasto = WebMapTileService(config[\"wmts\"][\"maasto\"])\n",
    "except Exception as e:\n",
    "    print(e)\n",
    "tile_matrix_set_name = config[\"matrix\"][\"set_name\"]\n",
    "map_layer = config[\"matrix\"][\"map_layer\"][\"orto\"]\n",
    "standardized_rendering_pixel_size = config[\"standardized_rendering_pixel_size\"]"
   ]
  },
  {
   "cell_type": "code",
   "execution_count": 3,
   "metadata": {},
   "outputs": [],
   "source": [
    "def get_boxes_by__matrix(matrix):\n",
    "    delta_width = matrix.tilewidth * standardized_rendering_pixel_size * matrix.scaledenominator\n",
    "    delta_height = matrix.tileheight * standardized_rendering_pixel_size * matrix.scaledenominator\n",
    "    boxes_dict = dict()\n",
    "    for tile_height_pos in range(matrix.matrixheight):\n",
    "        for tile_width_pos in range(matrix.matrixwidth):\n",
    "            left_lon = matrix.topleftcorner[0] + (tile_width_pos * delta_width)\n",
    "            left_lat = matrix.topleftcorner[1] - (tile_height_pos * delta_height)\n",
    "            right_lon = matrix.topleftcorner[0] + ((tile_width_pos + 1) * delta_width)\n",
    "            right_lat = matrix.topleftcorner[1] - ((tile_height_pos + 1) * delta_height)\n",
    "            left = general.convert_coordinate_systems(lat=left_lat, lon=left_lon)\n",
    "            right = general.convert_coordinate_systems(right_lat, right_lon)\n",
    "\n",
    "            combined = dict(left=left, right=right)\n",
    "            boxes_dict[tile_height_pos, tile_width_pos] = combined\n",
    "    return boxes_dict\n"
   ]
  },
  {
   "cell_type": "code",
   "execution_count": 4,
   "metadata": {},
   "outputs": [],
   "source": [
    "def get_boxes_by_df(matrix):\n",
    "    boxes = get_boxes_by__matrix(matrix)\n",
    "    df = pd.DataFrame(boxes).T\n",
    "    df_ = pd.concat([df['left'].apply(pd.Series), df['right'].apply(pd.Series)], keys=['left', 'right'], axis=1)\n",
    "    return df_\n"
   ]
  },
  {
   "cell_type": "code",
   "execution_count": 5,
   "metadata": {},
   "outputs": [],
   "source": [
    "def get_column_row_for_coordinate_at_level(latitude, longitude, wmts_, tileset=None, level=2, df=None):\n",
    "    if tileset == None and df == None:\n",
    "        tileset = wmts_.tilematrixsets[tile_matrix_set_name]\n",
    "        list_of_tilematrixes = list(tileset.tilematrix.keys())\n",
    "        df = get_boxes_by_df(tileset.tilematrix[list_of_tilematrixes[level]])\n",
    "    searched_df = df[(df['left'][0] <= longitude)\n",
    "                     & (longitude <= df['right'][0])\n",
    "                     & (df['left'][1] >= latitude)\n",
    "                     & (latitude >= df['right'][1])]\n",
    "    index_ = searched_df.index\n",
    "    if len(index_.to_list()) == 0:\n",
    "        print(index_)\n",
    "        display(df)\n",
    "        display(searched_df)\n",
    "        return\n",
    "    codes = index_.to_list()[-1]\n",
    "    return codes, df\n"
   ]
  },
  {
   "cell_type": "code",
   "execution_count": 6,
   "metadata": {},
   "outputs": [],
   "source": [
    "def get_image_for_coordinate(latitude, longitude, level, wmts_, specified_map_layer=map_layer):\n",
    "    codes, df_ = get_column_row_for_coordinate_at_level(latitude=latitude,\n",
    "                                                        longitude=longitude,\n",
    "                                                        wmts_=wmts_,\n",
    "                                                        level=level)\n",
    "    tile = wmts_.gettile(layer=specified_map_layer,\n",
    "                         tilematrixset=tile_matrix_set_name,\n",
    "                         tilematrix='{0}'.format(level),\n",
    "                         row=codes[0],\n",
    "                         column=codes[1],\n",
    "                         format= wmts_.contents[specified_map_layer].formats[0])\n",
    "    out = open('test.jpg', 'wb')\n",
    "    out.write(tile.read())\n",
    "    out.close()\n",
    "    display(Image(filename='test.jpg'))\n"
   ]
  },
  {
   "cell_type": "code",
   "execution_count": 13,
   "metadata": {},
   "outputs": [
    {
     "data": {
      "image/jpeg": "[encoded data removed]",
      "text/plain": [
       "<IPython.core.display.Image object>"
      ]
     },
     "metadata": {},
     "output_type": "display_data"
    }
   ],
   "source": [
    "info_dict = general.get_coordinates_from_file()[0]\n",
    "get_image_for_coordinate(info_dict['latitude'], info_dict['longitude'],4, wmts_=wmts_avoin)\n"
   ]
  }
 ],
 "metadata": {
  "kernelspec": {
   "display_name": "Python 3",
   "language": "python",
   "name": "python3"
  },
  "language_info": {
   "codemirror_mode": {
    "name": "ipython",
    "version": 3
   },
   "file_extension": ".py",
   "mimetype": "text/x-python",
   "name": "python",
   "nbconvert_exporter": "python",
   "pygments_lexer": "ipython3",
   "version": "3.6.6"
  }
 },
 "nbformat": 4,
 "nbformat_minor": 2
}
