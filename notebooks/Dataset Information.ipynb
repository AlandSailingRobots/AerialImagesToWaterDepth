{
 "cells": [
  {
   "cell_type": "code",
   "execution_count": 1,
   "metadata": {},
   "outputs": [],
   "source": [
    "from data_resources import fileToObjects\n",
    "from progressbar import progressbar\n",
    "import pandas as pd\n",
    "import json"
   ]
  },
  {
   "cell_type": "code",
   "execution_count": 2,
   "metadata": {
    "scrolled": true
   },
   "outputs": [
    {
     "name": "stderr",
     "output_type": "stream",
     "text": [
      "100% |########################################################################|\n"
     ]
    }
   ],
   "source": [
    "calculated_dict = dict(total=0,total_=dict())\n",
    "progres = progressbar.ProgressBar()\n",
    "sources = fileToObjects.get_data(fileToObjects.DatasourceType.height_corrected)\n",
    "measurement_types = ['SBES','MBES','LIDAR']\n",
    "for item in progres(sources):\n",
    "    temp_df = fileToObjects.open_xyz_file_as_panda(item)\n",
    "    previous_x = 0\n",
    "    end_number = -11\n",
    "    name = None\n",
    "    for measurement_type in measurement_types:\n",
    "        if measurement_type in item['name']:\n",
    "            name = measurement_type\n",
    "    if name == None:\n",
    "        continue\n",
    "    for x in reversed(range(end_number,0)):\n",
    "        if x == end_number:\n",
    "            size_current = len(temp_df[temp_df.height<previous_x])\n",
    "        else:\n",
    "            size_current = len(temp_df[(temp_df.height<previous_x) &(temp_df.height>=x)])\n",
    "        \n",
    "        key = '{0}-{1}'.format(-previous_x,-x)\n",
    "        if name not in calculated_dict:\n",
    "            calculated_dict[name] = dict()\n",
    "        if key not in calculated_dict[name]:\n",
    "            calculated_dict[name][key]=0\n",
    "        if key not in calculated_dict['total_']:\n",
    "            calculated_dict['total_'][key]=0\n",
    "        calculated_dict['total_'][key] +=size_current\n",
    "        calculated_dict[name][key] +=size_current\n",
    "        calculated_dict['total'] +=size_current\n",
    "        previous_x =x"
   ]
  },
  {
   "cell_type": "code",
   "execution_count": 3,
   "metadata": {
    "scrolled": true
   },
   "outputs": [
    {
     "data": {
      "text/plain": [
       "{'total': 167601948,\n",
       " 'total_': {'0-1': 178132,\n",
       "  '1-2': 539597,\n",
       "  '2-3': 1567455,\n",
       "  '3-4': 3254399,\n",
       "  '4-5': 8652186,\n",
       "  '5-6': 23289929,\n",
       "  '6-7': 34691721,\n",
       "  '7-8': 32709043,\n",
       "  '8-9': 32683331,\n",
       "  '9-10': 30036155,\n",
       "  '10-11': 0},\n",
       " 'MBES': {'0-1': 391,\n",
       "  '1-2': 29869,\n",
       "  '2-3': 241930,\n",
       "  '3-4': 1704166,\n",
       "  '4-5': 6972967,\n",
       "  '5-6': 22039065,\n",
       "  '6-7': 33866531,\n",
       "  '7-8': 32204982,\n",
       "  '8-9': 32322849,\n",
       "  '9-10': 29784572,\n",
       "  '10-11': 0},\n",
       " 'SBES': {'0-1': 67846,\n",
       "  '1-2': 417454,\n",
       "  '2-3': 1147726,\n",
       "  '3-4': 1278041,\n",
       "  '4-5': 1386038,\n",
       "  '5-6': 1133032,\n",
       "  '6-7': 720992,\n",
       "  '7-8': 394339,\n",
       "  '8-9': 233275,\n",
       "  '9-10': 136928,\n",
       "  '10-11': 0},\n",
       " 'LIDAR': {'0-1': 109895,\n",
       "  '1-2': 92274,\n",
       "  '2-3': 177799,\n",
       "  '3-4': 272192,\n",
       "  '4-5': 293181,\n",
       "  '5-6': 117832,\n",
       "  '6-7': 104198,\n",
       "  '7-8': 109722,\n",
       "  '8-9': 127207,\n",
       "  '9-10': 114655,\n",
       "  '10-11': 0}}"
      ]
     },
     "execution_count": 3,
     "metadata": {},
     "output_type": "execute_result"
    }
   ],
   "source": [
    "calculated_dict"
   ]
  },
  {
   "cell_type": "code",
   "execution_count": 4,
   "metadata": {},
   "outputs": [],
   "source": [
    "for key in calculated_dict['total_']:\n",
    "    calculated_dict['total_'][key] =  round(calculated_dict['total_'][key] / calculated_dict['total'] * 100,2)"
   ]
  },
  {
   "cell_type": "code",
   "execution_count": 5,
   "metadata": {},
   "outputs": [
    {
     "ename": "FileExistsError",
     "evalue": "[Errno 17] File exists: 'measurements_information.json'",
     "output_type": "error",
     "traceback": [
      "\u001b[0;31m---------------------------------------------------------------------------\u001b[0m",
      "\u001b[0;31mFileExistsError\u001b[0m                           Traceback (most recent call last)",
      "\u001b[0;32m<ipython-input-5-0d30e873f363>\u001b[0m in \u001b[0;36m<module>\u001b[0;34m\u001b[0m\n\u001b[0;32m----> 1\u001b[0;31m \u001b[0;32mwith\u001b[0m \u001b[0mopen\u001b[0m\u001b[0;34m(\u001b[0m\u001b[0;34m'measurements_information.json'\u001b[0m\u001b[0;34m,\u001b[0m \u001b[0;34m'x'\u001b[0m\u001b[0;34m)\u001b[0m \u001b[0;32mas\u001b[0m \u001b[0mjson_file\u001b[0m\u001b[0;34m:\u001b[0m\u001b[0;34m\u001b[0m\u001b[0;34m\u001b[0m\u001b[0m\n\u001b[0m\u001b[1;32m      2\u001b[0m     \u001b[0mjson\u001b[0m\u001b[0;34m.\u001b[0m\u001b[0mdump\u001b[0m\u001b[0;34m(\u001b[0m\u001b[0mcalculated_dict\u001b[0m\u001b[0;34m,\u001b[0m \u001b[0mjson_file\u001b[0m\u001b[0;34m,\u001b[0m\u001b[0mindent\u001b[0m\u001b[0;34m=\u001b[0m\u001b[0;36m4\u001b[0m\u001b[0;34m,\u001b[0m\u001b[0msort_keys\u001b[0m\u001b[0;34m=\u001b[0m\u001b[0;32mTrue\u001b[0m\u001b[0;34m)\u001b[0m\u001b[0;34m\u001b[0m\u001b[0;34m\u001b[0m\u001b[0m\n",
      "\u001b[0;31mFileExistsError\u001b[0m: [Errno 17] File exists: 'measurements_information.json'"
     ]
    }
   ],
   "source": [
    "with open('measurements_information.json', 'x') as json_file:\n",
    "    json.dump(calculated_dict, json_file,indent=4,sort_keys=True)"
   ]
  },
  {
   "cell_type": "code",
   "execution_count": 6,
   "metadata": {},
   "outputs": [
    {
     "name": "stdout",
     "output_type": "stream",
     "text": [
      "total_ 100.00999999999999\n",
      "MBES 159167322\n",
      "SBES 6915671\n",
      "LIDAR 1518955\n",
      "167601948\n"
     ]
    }
   ],
   "source": [
    "summed =0\n",
    "for key in calculated_dict:\n",
    "    if not isinstance(calculated_dict[key],int):\n",
    "        count=0\n",
    "        for sub_key in calculated_dict[key]:\n",
    "            count += calculated_dict[key][sub_key]\n",
    "        print(key,count)\n",
    "        if key != 'total_':\n",
    "            summed += count\n",
    "print(summed)"
   ]
  },
  {
   "cell_type": "code",
   "execution_count": null,
   "metadata": {},
   "outputs": [],
   "source": [
    "433381714/442060499*100"
   ]
  },
  {
   "cell_type": "code",
   "execution_count": 11,
   "metadata": {},
   "outputs": [
    {
     "data": {
      "text/plain": [
       "241.3785898527118"
      ]
     },
     "execution_count": 11,
     "metadata": {},
     "output_type": "execute_result"
    }
   ],
   "source": [
    "167601948/694353"
   ]
  },
  {
   "cell_type": "code",
   "execution_count": 14,
   "metadata": {},
   "outputs": [
    {
     "data": {
      "text/plain": [
       "64.0"
      ]
     },
     "execution_count": 14,
     "metadata": {},
     "output_type": "execute_result"
    }
   ],
   "source": [
    "(256*.25)"
   ]
  },
  {
   "cell_type": "code",
   "execution_count": null,
   "metadata": {},
   "outputs": [],
   "source": []
  }
 ],
 "metadata": {
  "kernelspec": {
   "display_name": "Python 3",
   "language": "python",
   "name": "python3"
  },
  "language_info": {
   "codemirror_mode": {
    "name": "ipython",
    "version": 3
   },
   "file_extension": ".py",
   "mimetype": "text/x-python",
   "name": "python",
   "nbconvert_exporter": "python",
   "pygments_lexer": "ipython3",
   "version": "3.7.3"
  }
 },
 "nbformat": 4,
 "nbformat_minor": 2
}
