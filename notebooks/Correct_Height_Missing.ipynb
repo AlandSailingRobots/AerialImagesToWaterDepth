{
 "cells": [
  {
   "cell_type": "code",
   "execution_count": 1,
   "metadata": {},
   "outputs": [],
   "source": [
    "from data_resources import fileToObjects as fetcher, transformObjects as transformer, singleTile as single_tile\n",
    "import pandas as pd\n",
    "import progressbar\n",
    "from pyproj import Proj, transform"
   ]
  },
  {
   "cell_type": "code",
   "execution_count": 2,
   "metadata": {
    "scrolled": false
   },
   "outputs": [],
   "source": [
    "inProj = Proj(init='epsg:2394')\n",
    "outProj = Proj(init= 'epsg:3067')\n",
    "def transform_row(df_):\n",
    "    x,y = transform(inProj,outProj,df_.longitude,df_.latitude)\n",
    "    return pd.Series([x, y])\n",
    "\n",
    "def get_single_df_from_sources(sources,correct_df=False):\n",
    "    df =pd.DataFrame()\n",
    "    for item in sources:\n",
    "        temp_df = fetcher.open_xyz_file_as_panda(item)\n",
    "        temp_df['coordinate_system'] = ''+item['coordinate_system']\n",
    "        if correct_df and item['coordinate_system'] != 'epsg:3067':\n",
    "            temp_df[['longitude', 'latitude']]  = temp_df.apply(transform_row,axis=1)\n",
    "        temp_df['name'] = ''+item['name']\n",
    "        df = df.append(temp_df)\n",
    "    return df"
   ]
  },
  {
   "cell_type": "code",
   "execution_count": 3,
   "metadata": {
    "scrolled": true
   },
   "outputs": [],
   "source": [
    "def get_height_difference_in_location_points(df,uncorrected_name):\n",
    "    df_ = df.copy()\n",
    "    columns = ['longitude','latitude']\n",
    "    df_[columns] = df_[columns].round()\n",
    "    duplicated = df_[df_.longitude.isin(df_[df_.name == uncorrected_name].longitude) & \n",
    "                     df_.latitude.isin(df_[df_.name == uncorrected_name].latitude)& \n",
    "                     df_.duplicated(columns,keep=False)]\n",
    "    print(duplicated.name.unique())\n",
    "    difference = duplicated[duplicated.name == uncorrected_name].height.mean()-duplicated[duplicated.name != uncorrected_name].height.mean()\n",
    "    return difference"
   ]
  },
  {
   "cell_type": "code",
   "execution_count": 4,
   "metadata": {},
   "outputs": [],
   "source": [
    "sources = fetcher.get_data('private')\n",
    "df = get_single_df_from_sources(sources)"
   ]
  },
  {
   "cell_type": "code",
   "execution_count": 5,
   "metadata": {},
   "outputs": [
    {
     "name": "stdout",
     "output_type": "stream",
     "text": [
      "['LIDAR_WMA_malli_2m' 'E_MBES_del2_WMA_2m' 'F_SBES_WMA_2m']\n"
     ]
    },
    {
     "data": {
      "text/plain": [
       "75.99338688690638"
      ]
     },
     "execution_count": 5,
     "metadata": {},
     "output_type": "execute_result"
    }
   ],
   "source": [
    "get_height_difference_in_location_points(df,'LIDAR_WMA_malli_2m')"
   ]
  }
 ],
 "metadata": {
  "kernelspec": {
   "display_name": "Python 3",
   "language": "python",
   "name": "python3"
  },
  "language_info": {
   "codemirror_mode": {
    "name": "ipython",
    "version": 3
   },
   "file_extension": ".py",
   "mimetype": "text/x-python",
   "name": "python",
   "nbconvert_exporter": "python",
   "pygments_lexer": "ipython3",
   "version": "3.7.3"
  }
 },
 "nbformat": 4,
 "nbformat_minor": 2
}
