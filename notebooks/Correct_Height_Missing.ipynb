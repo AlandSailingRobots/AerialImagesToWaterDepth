{
  "cells": [
    {
      "cell_type": "code",
      "execution_count": 1,
      "metadata": {
        "pycharm": {}
      },
      "outputs": [],
      "source": "from data_resources import fileToObjects as fetcher\nimport pandas as pd\nfrom pyproj import Proj, transform"
    },
    {
      "cell_type": "code",
      "execution_count": 2,
      "metadata": {
        "scrolled": false,
        "pycharm": {}
      },
      "outputs": [],
      "source": "inProj \u003d Proj(init\u003d\u0027epsg:2394\u0027)\noutProj \u003d Proj(init\u003d \u0027epsg:3067\u0027)\ndef transform_row(df_):\n    x,y \u003d transform(inProj,outProj,df_.longitude,df_.latitude)\n    return pd.Series([x, y])\n\ndef get_single_df_from_sources(sources,correct_df\u003dFalse,save\u003dFalse):\n    df \u003dpd.DataFrame()\n    for item in sources:\n        temp_df \u003d fetcher.open_xyz_file_as_panda(item)\n        temp_df[\u0027coordinate_system\u0027] \u003d \u0027\u0027+item[\u0027coordinate_system\u0027]\n        if correct_df and item[\u0027coordinate_system\u0027] !\u003d \u0027epsg:3067\u0027:\n            temp_df[[\u0027longitude\u0027, \u0027latitude\u0027]]  \u003d temp_df.apply(transform_row,axis\u003d1)\n        if save:\n            temp_df.to_csv(temp_df[\u0027name\u0027]+\u0027-corrected\u0027)\n        temp_df[\u0027name\u0027] \u003d \u0027\u0027+item[\u0027name\u0027]\n        df \u003d df.append(temp_df)\n    return df"
    },
    {
      "cell_type": "code",
      "execution_count": 3,
      "metadata": {
        "scrolled": true,
        "pycharm": {}
      },
      "outputs": [],
      "source": "def get_height_difference_in_location_points(df_,uncorrected_name):\n    columns \u003d [\u0027longitude\u0027,\u0027latitude\u0027]\n    df_[columns] \u003d df_[columns].round()\n    duplicated \u003d df_[df_.longitude.isin(df_[df_.name \u003d\u003d uncorrected_name].longitude) \u0026 \n                     df_.latitude.isin(df_[df_.name \u003d\u003d uncorrected_name].latitude)\u0026 \n                     df_.duplicated(columns,keep\u003dFalse)]\n    print(duplicated.name.unique())\n    difference \u003d duplicated[duplicated.name \u003d\u003d uncorrected_name].height.mean()-duplicated[duplicated.name !\u003d uncorrected_name].height.mean()\n    return difference"
    },
    {
      "cell_type": "code",
      "execution_count": 4,
      "metadata": {
        "pycharm": {}
      },
      "outputs": [],
      "source": [
        "sources \u003d fetcher.get_data(\u0027private\u0027)\n",
        "df \u003d get_single_df_from_sources(sources)"
      ]
    },
    {
      "cell_type": "code",
      "execution_count": 5,
      "metadata": {
        "pycharm": {}
      },
      "outputs": [
        {
          "name": "stdout",
          "output_type": "stream",
          "text": [
            "[\u0027LIDAR_WMA_malli_2m\u0027 \u0027E_MBES_del2_WMA_2m\u0027 \u0027F_SBES_WMA_2m\u0027]\n"
          ]
        },
        {
          "data": {
            "text/plain": [
              "75.99338688690638"
            ]
          },
          "execution_count": 5,
          "metadata": {},
          "output_type": "execute_result"
        }
      ],
      "source": "get_height_difference_in_location_points(df.copy(),\u0027LIDAR_WMA_malli_2m\u0027)"
    }
  ],
  "metadata": {
    "kernelspec": {
      "display_name": "Python 3",
      "language": "python",
      "name": "python3"
    },
    "language_info": {
      "codemirror_mode": {
        "name": "ipython",
        "version": 3
      },
      "file_extension": ".py",
      "mimetype": "text/x-python",
      "name": "python",
      "nbconvert_exporter": "python",
      "pygments_lexer": "ipython3",
      "version": "3.7.3"
    }
  },
  "nbformat": 4,
  "nbformat_minor": 2
}