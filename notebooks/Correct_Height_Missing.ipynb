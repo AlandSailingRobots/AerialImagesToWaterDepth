{
 "cells": [
  {
   "cell_type": "code",
   "execution_count": 1,
   "metadata": {
    "pycharm": {
     "is_executing": false
    }
   },
   "outputs": [],
   "source": [
    "from data_resources import fileToObjects\n",
    "import pandas as pd\n",
    "from pyproj import Proj, Transformer\n",
    "used_coordinate_system = 'epsg:3067'"
   ]
  },
  {
   "cell_type": "code",
   "execution_count": 2,
   "metadata": {
    "pycharm": {},
    "scrolled": false
   },
   "outputs": [],
   "source": [
    "def transform_row(df_, source):\n",
    "    inProj = Proj(init=source['coordinate_system'])\n",
    "    outProj = Proj(init=used_coordinate_system)\n",
    "    transformer = Transformer.from_proj(inProj, outProj)\n",
    "    longitude, latitude = transformer.transform(list(df_.longitude), list(df_.latitude))\n",
    "    df_.longitude = longitude\n",
    "    df_.latitude = latitude\n",
    "    \n",
    "def get_single_df_from_sources(sources, correct_df=False, save=False):\n",
    "    df = pd.DataFrame()\n",
    "    for item in sources:\n",
    "        temp_df = fileToObjects.open_xyz_file_as_panda(item)\n",
    "        if correct_df and item['coordinate_system'] != used_coordinate_system:\n",
    "            transform_row(temp_df, item)\n",
    "            if save:\n",
    "                fileToObjects.save_panda_as_file(temp_df.round(2), item['name'])\n",
    "        temp_df['name'] = '' + item['name']\n",
    "        df = df.append(temp_df)\n",
    "    return df"
   ]
  },
  {
   "cell_type": "code",
   "execution_count": 3,
   "metadata": {
    "pycharm": {},
    "scrolled": true
   },
   "outputs": [],
   "source": [
    "def get_height_difference_in_location_points(df_,uncorrected_name):\n",
    "    columns = ['longitude', 'latitude']\n",
    "    df_[columns] = df_[columns].round()\n",
    "    duplicated = df_[df_.longitude.isin(df_[df_.name == uncorrected_name].longitude) &\n",
    "                     df_.latitude.isin(df_[df_.name == uncorrected_name].latitude) &\n",
    "                     df_.duplicated(columns, keep=False)]\n",
    "    print('percentage',\n",
    "          len(duplicated[duplicated.name == uncorrected_name]) / len(df_[df_.name == uncorrected_name]) * 100.00)\n",
    "    difference = duplicated[duplicated.name == uncorrected_name].height.mean() - duplicated[\n",
    "        duplicated.name != uncorrected_name].height.mean()\n",
    "    return difference\n"
   ]
  },
  {
   "cell_type": "code",
   "execution_count": 4,
   "metadata": {
    "pycharm": {}
   },
   "outputs": [],
   "source": [
    "def change_height_and_save(df_, name, difference):\n",
    "    df_ = df_[df_.name == name].copy()\n",
    "    df_['height'] = df_['height'].apply(lambda x: round(x-difference,2))\n",
    "    fileToObjects.save_panda_as_file(df_.drop('name',axis=1), name)"
   ]
  },
  {
   "cell_type": "code",
   "execution_count": 5,
   "metadata": {
    "pycharm": {
     "metadata": false,
     "name": "#%%\n"
    }
   },
   "outputs": [],
   "source": [
    "sources = fileToObjects.get_data(fileToObjects.DataSourceEnum.private)\n",
    "df = get_single_df_from_sources(sources, correct_df=True, save=True)\n"
   ]
  },
  {
   "cell_type": "code",
   "execution_count": 6,
   "metadata": {
    "pycharm": {}
   },
   "outputs": [
    {
     "name": "stdout",
     "output_type": "stream",
     "text": [
      "percentage 15.064214493085995\n",
      "height difference is: 75.82900223764962 75.83\n"
     ]
    }
   ],
   "source": [
    "dif = get_height_difference_in_location_points(df.copy(), 'LIDAR_WMA_malli_2m')\n",
    "change_height_and_save(df, 'LIDAR_WMA_malli_2m', dif)\n",
    "print('height difference is:', dif, round(dif, 2))"
   ]
  }
 ],
 "metadata": {
  "kernelspec": {
   "display_name": "Python 3",
   "language": "python",
   "name": "python3"
  },
  "language_info": {
   "codemirror_mode": {
    "name": "ipython",
    "version": 3
   },
   "file_extension": ".py",
   "mimetype": "text/x-python",
   "name": "python",
   "nbconvert_exporter": "python",
   "pygments_lexer": "ipython3",
   "version": "3.7.3"
  }
 },
 "nbformat": 4,
 "nbformat_minor": 2
}
