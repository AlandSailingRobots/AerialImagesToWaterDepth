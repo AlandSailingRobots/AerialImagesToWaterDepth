{
 "cells": [
  {
   "cell_type": "code",
   "execution_count": 1,
   "metadata": {
    "pycharm": {
     "is_executing": false
    }
   },
   "outputs": [],
   "source": [
    "from data_resources import fileToObjects as fetcher, transformObjects as transformer, singleTile as single_tile\n",
    "from PIL import Image\n",
    "from bokeh.plotting import figure, show, output_file\n",
    "import time\n",
    "import progressbar\n",
    "\n",
    "widgets=[\n",
    "    ' [', progressbar.Timer(), '] ',\n",
    "    progressbar.Bar(),\n",
    "    ' (', progressbar.AdaptiveETA(), ') ',\n",
    "]\n",
    "configuration = fetcher.get_configuration()\n"
   ]
  },
  {
   "cell_type": "code",
   "execution_count": 2,
   "metadata": {
    "pycharm": {
     "is_executing": false
    }
   },
   "outputs": [],
   "source": [
    "def get_datapoints(sample, data_source, level, name_set):\n",
    "    data_points = list()\n",
    "    for index, row in sample.iterrows():\n",
    "        point_dict = transformer.create_info_object_from_panda_row(row, data_source['coordinate_system'], level)\n",
    "        images_and_info = single_tile.get_information_for_tile(point_dict, configuration, name_set)\n",
    "        images_and_info.depth = row['height']\n",
    "        data_points.append(images_and_info)\n",
    "    return data_points"
   ]
  },
  {
   "cell_type": "code",
   "execution_count": 3,
   "metadata": {
    "pycharm": {
     "is_executing": false
    }
   },
   "outputs": [],
   "source": [
    "def get_set_from_datapoints(data_source, sample_size, max_depth=None, latitude_range=None,\n",
    "                            longitude_range=None,\n",
    "                            no_sample=False):\n",
    "    df = fetcher.open_xyz_file_as_panda(data_source)\n",
    "    if latitude_range != None and longitude_range != None:\n",
    "        df = df[(latitude_range[0] <= df.latitude)\n",
    "                & (df.latitude <= latitude_range[1])\n",
    "                & (longitude_range[0] <= df.longitude)\n",
    "                & (df.longitude <= longitude_range[1])]\n",
    "    if max_depth != None:\n",
    "        df = df[df.height >= max_depth]\n",
    "    if df.shape[0] < sample_size:\n",
    "        sample_size = df.shape[0]\n",
    "    if no_sample:\n",
    "        return df\n",
    "    else:\n",
    "        return df.sample(sample_size)"
   ]
  },
  {
   "cell_type": "code",
   "execution_count": 4,
   "metadata": {
    "pycharm": {
     "is_executing": false
    }
   },
   "outputs": [],
   "source": [
    "def get_range(value, tiles):\n",
    "    min_value = min(i.__dict__[value] for i in tiles)\n",
    "    max_value = max(i.__dict__[value] for i in tiles)\n",
    "    ranged = list(range(min_value, max_value + 1))\n",
    "    if len(ranged) == 0:\n",
    "        return [min_value]\n",
    "    else:\n",
    "        return ranged\n",
    "\n",
    "def get_missing_tiles(tiles, wmt, layer):\n",
    "    rows_ = get_range('row', tiles)\n",
    "    columns_ = get_range('column', tiles)\n",
    "    levels_ = get_range('level', tiles)\n",
    "    checked_set = set((i.level, i.row, i.column) for i in tiles)\n",
    "    missing_set = set()\n",
    "    for level in levels_:\n",
    "        for row in rows_:\n",
    "            for column in columns_:\n",
    "                if (level, row, column) not in checked_set:\n",
    "                    missing_set.add((row, column))\n",
    "    progress_ = progressbar.ProgressBar(widgets=['Missing Images']+widgets)\n",
    "    for r, c in progress_(missing_set):\n",
    "        single_tile.add_tile(wmt, layer, r, c)\n",
    "\n",
    "\n",
    "def compare(normal):\n",
    "    return normal.level, normal.row, normal.column\n"
   ]
  },
  {
   "cell_type": "code",
   "execution_count": 5,
   "metadata": {
    "pycharm": {
     "is_executing": false
    }
   },
   "outputs": [],
   "source": [
    "def plot_data_points(data_dict, points, im, x_offset, y_offset, color, name):\n",
    "    for point_ in points:\n",
    "        image_tile = point_.image_points[0].image_tile\n",
    "        if im.level == image_tile.level and im.row == image_tile.row and im.column == image_tile.column:\n",
    "            image_location = point_.image_points[-1].data_point_in_image\n",
    "            data_point = point_.data_point\n",
    "            temp_dict = dict(                \n",
    "                width=image_location.width,\n",
    "                height=image_location.height,\n",
    "                x=image_location.width + x_offset,\n",
    "                y=image_location.height + y_offset,\n",
    "                lat=data_point.latitude,\n",
    "                lon=data_point.longitude,\n",
    "                name=name,\n",
    "                color=color,\n",
    "                depth=point_.depth,\n",
    "                row=image_tile.row,\n",
    "                column=image_tile.column\n",
    "                )\n",
    "            for item in temp_dict:\n",
    "                data_dict[item].append(temp_dict[item])\n"
   ]
  },
  {
   "cell_type": "code",
   "execution_count": 6,
   "metadata": {
    "pycharm": {
     "is_executing": false
    }
   },
   "outputs": [],
   "source": [
    "def get_dataset_from_sources(sources, amount, level, name_set, max_depth=None, latitude_range=None,\n",
    "                             longitude_range=None,no_sample=False):\n",
    "    data = list()\n",
    "    progress = progressbar.ProgressBar(widgets=['Getting Images']+widgets)\n",
    "    for item in progress(sources):\n",
    "        sample = get_set_from_datapoints(item, amount, max_depth, latitude_range, longitude_range,no_sample)\n",
    "        sample_set = get_datapoints(sample, item, level, name_set)\n",
    "        if sample_set is not None:\n",
    "            data.append({\"items\": sample_set, \"color\": item[\"color\"], \"name\": item[\"name\"]})\n",
    "    return data\n"
   ]
  },
  {
   "cell_type": "code",
   "execution_count": 7,
   "metadata": {
    "pycharm": {
     "is_executing": false
    }
   },
   "outputs": [],
   "source": [
    "def create_image_and_points(sorted_images, datasets):\n",
    "    widths = len(set(i.column for i in sorted_images))\n",
    "    heights = len(set(i.row for i in sorted_images))\n",
    "    image_sizes = sorted_images[0].get_image_from_tile().size\n",
    "    new_im = Image.new('RGB', (widths * image_sizes[0], heights * image_sizes[1]))\n",
    "    x_offset = 0\n",
    "    y_offset = 0\n",
    "    data_dict = dict(x=list(), y=list(), name=list(), color=list(), lat=list(), lon=list(), depth=list(), width=list(),\n",
    "                     height=list(), row=list(), column=list())\n",
    "    previous_im = None\n",
    "    progress_ = progressbar.ProgressBar(widgets=['Creating images']+widgets)\n",
    "    for im in progress_(sorted_images):\n",
    "        image = im.get_image_from_tile()\n",
    "        if previous_im is not None and previous_im.column != im.column:\n",
    "            x_offset += image.size[0]\n",
    "        if previous_im is not None and previous_im.row != im.row:\n",
    "            y_offset += image.size[1]\n",
    "            x_offset = 0\n",
    "        new_im.paste(image, (x_offset, y_offset))\n",
    "        for dataset in datasets:\n",
    "            plot_data_points(data_dict, dataset[\"items\"], im, x_offset, y_offset, dataset[\"color\"], dataset[\"name\"])\n",
    "        previous_im = im\n",
    "    return new_im, data_dict\n"
   ]
  },
  {
   "cell_type": "code",
   "execution_count": 8,
   "metadata": {
    "pycharm": {
     "is_executing": false
    }
   },
   "outputs": [],
   "source": [
    "def plot_from_dict(data_dict, image):\n",
    "    TOOLS = \"pan,hover,box_zoom,zoom_in,zoom_out,reset\"\n",
    "    p = figure(x_range=(0, image.width), y_range=(image.height, 0), match_aspect=True, tools=TOOLS,\n",
    "               tooltips=[(\"Source\", \"@name\"),\n",
    "                         (\"Lat\", \"@lat{0,0.000}\"),\n",
    "                         (\"Long\", \"@lon{0,0.000}\"),\n",
    "                         (\"Depth\", \"@depth\"),\n",
    "                         (\"Width\", \"@width{0,0.0000}\"),\n",
    "                         (\"Height\", \"@height{0,0.0000}\"),\n",
    "                         (\"Row\", \"@row\"),\n",
    "                         (\"Column\", \"@column\")]\n",
    "               )\n",
    "    p.image_url(url=['image.jpg'], x=0, y=0, w=image.width, h=image.height, anchor=\"top_left\")\n",
    "    p.circle('x', 'y', source=data_dict, color='color')\n",
    "    output_file(\"pointsplot.html\", title=\"Divided Points\")\n",
    "    show(p)\n"
   ]
  },
  {
   "cell_type": "code",
   "execution_count": 9,
   "metadata": {
    "pycharm": {
     "is_executing": false
    },
    "scrolled": true
   },
   "outputs": [
    {
     "name": "stderr",
     "output_type": "stream",
     "text": [
      "Getting Images [Elapsed Time: 0:00:08] |#####################| (Time: 0:00:08) \n",
      "Missing Images [Elapsed Time: 0:03:52] |#####################| (Time: 0:03:52) \n",
      "Creating images [Elapsed Time: 0:01:58] |####################| (Time: 0:01:58) \n"
     ]
    }
   ],
   "source": [
    "level = 14\n",
    "name_set = ['ava_norm_split','ava_norm', 'ava_infrared','background_map'][0]\n",
    "sources = fetcher.get_data(fetcher.DatasourceType.corrected)\n",
    "datasets = get_dataset_from_sources(sources, 100, level, name_set, max_depth=-2,no_sample=False)\n",
    "web_map, layer = single_tile.get_specific_layer(configuration, name_set)\n",
    "get_missing_tiles(layer.image_tiles, web_map, layer)\n",
    "sorted_images = sorted(layer.image_tiles, key=compare)\n",
    "image, data_dict = create_image_and_points(sorted_images, datasets)\n",
    "image.save('image.jpg')\n",
    "time.sleep(1)\n",
    "plot_from_dict(data_dict, image)\n"
   ]
  }
 ],
 "metadata": {
  "kernelspec": {
   "display_name": "Python 3",
   "language": "python",
   "name": "python3"
  },
  "language_info": {
   "codemirror_mode": {
    "name": "ipython",
    "version": 3
   },
   "file_extension": ".py",
   "mimetype": "text/x-python",
   "name": "python",
   "nbconvert_exporter": "python",
   "pygments_lexer": "ipython3",
   "version": "3.7.3"
  }
 },
 "nbformat": 4,
 "nbformat_minor": 2
}
