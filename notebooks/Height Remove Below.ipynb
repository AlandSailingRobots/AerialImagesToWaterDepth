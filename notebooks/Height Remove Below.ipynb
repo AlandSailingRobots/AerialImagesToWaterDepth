{
 "cells": [
  {
   "cell_type": "code",
   "execution_count": 1,
   "metadata": {},
   "outputs": [],
   "source": [
    "from data_resources import fileToObjects\n",
    "from progressbar import progressbar\n",
    "import pandas as pd\n",
    "import json"
   ]
  },
  {
   "cell_type": "code",
   "execution_count": 2,
   "metadata": {},
   "outputs": [
    {
     "name": "stderr",
     "output_type": "stream",
     "text": [
      "100% |########################################################################|\n"
     ]
    }
   ],
   "source": [
    "sources = fileToObjects.get_data(fileToObjects.DataSourceEnum.combined_corrected)\n",
    "sources_modified = sources\n",
    "progres = progressbar.ProgressBar()\n",
    "for item in progres(sources):\n",
    "    temp_df = fileToObjects.open_xyz_file_as_panda(item)\n",
    "    temp_df = temp_df[temp_df.height > -10]\n",
    "    file_path = fileToObjects.save_panda_as_file(temp_df,item['name'],'height_corrected_data')\n",
    "    key = sources.index(item)\n",
    "    sources_modified[key]['path'] = file_path"
   ]
  },
  {
   "cell_type": "code",
   "execution_count": 3,
   "metadata": {},
   "outputs": [],
   "source": [
    "with open('../height_corrected_data/data_sources.json', 'x') as json_file:\n",
    "    json.dump(sources_modified, json_file,indent=4,sort_keys=True)"
   ]
  }
 ],
 "metadata": {
  "kernelspec": {
   "display_name": "Python 3",
   "language": "python",
   "name": "python3"
  },
  "language_info": {
   "codemirror_mode": {
    "name": "ipython",
    "version": 3
   },
   "file_extension": ".py",
   "mimetype": "text/x-python",
   "name": "python",
   "nbconvert_exporter": "python",
   "pygments_lexer": "ipython3",
   "version": "3.7.3"
  }
 },
 "nbformat": 4,
 "nbformat_minor": 2
}
