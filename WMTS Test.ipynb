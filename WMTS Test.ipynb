{
 "cells": [
  {
   "cell_type": "code",
   "execution_count": 1,
   "metadata": {},
   "outputs": [],
   "source": [
    "from owslib.wmts import WebMapTileService\n",
    "import json\n",
    "import requests\n",
    "import pandas as pd\n",
    "from geopy.distance import great_circle\n",
    "import matplotlib.pyplot as plt\n",
    "import pyproj"
   ]
  },
  {
   "cell_type": "code",
   "execution_count": 6,
   "metadata": {},
   "outputs": [],
   "source": [
    "wmts = WebMapTileService('https://avoin-karttakuva.maanmittauslaitos.fi/avoin/wmts')\n",
    "standardized_rendering_pixel_size = 0.00028"
   ]
  },
  {
   "cell_type": "markdown",
   "metadata": {},
   "source": [
    "The webmap tile service can be used for getting the images and calculating the coordinates of them"
   ]
  },
  {
   "cell_type": "code",
   "execution_count": 7,
   "metadata": {},
   "outputs": [
    {
     "name": "stdout",
     "output_type": "stream",
     "text": [
      "possible maps: ['kiinteistotunnukset', 'selkokartta', 'taustakartta', 'kiinteistojaotus', 'ortokuva', 'maastokartta']\n",
      "possible coordinate system: ['ETRS-TM35FIN', 'WGS84_Pseudo-Mercator']\n"
     ]
    }
   ],
   "source": [
    "print('possible maps:', list(wmts.contents.keys()))\n",
    "print('possible coordinate system:', list(wmts.tilematrixsets.keys()))\n"
   ]
  },
  {
   "cell_type": "code",
   "execution_count": 8,
   "metadata": {},
   "outputs": [],
   "source": [
    "# tile = wmts.gettile(layer='ortokuva',tilematrixset='ETRS-TM35FIN',tilematrix='1',row=1,column=1,format=\"image/jpeg\")\n"
   ]
  },
  {
   "cell_type": "code",
   "execution_count": 9,
   "metadata": {},
   "outputs": [],
   "source": [
    "content_orto = wmts.contents['ortokuva']\n",
    "tileset = wmts.tilematrixsets['ETRS-TM35FIN']\n"
   ]
  },
  {
   "cell_type": "markdown",
   "metadata": {},
   "source": [
    "The data from the xml that cannot be parsed yet\n",
    "```xml\n",
    "<ows:LowerCorner>-548576.000000 6291456.000000</ows:LowerCorner>\n",
    "<ows:UpperCorner>1548576.000000 8388608.000000</ows:UpperCorner>\n",
    "```\n",
    "it is in the following format <lon,lat>\n",
    "```python\n",
    "   #ll = LowerCorner\n",
    "   #ur = UpperCorner\n",
    " self.boundingBoxWGS84 = (ll[0], ll[1], ur[0], ur[1])\n",
    " ```\n"
   ]
  },
  {
   "cell_type": "code",
   "execution_count": 10,
   "metadata": {},
   "outputs": [],
   "source": [
    "tileset.boundingBoxWGS84 = (-548576.000000, 6291456.000000, 1548576.000000, 8388608.000000)\n"
   ]
  },
  {
   "cell_type": "code",
   "execution_count": 11,
   "metadata": {},
   "outputs": [],
   "source": [
    "list_of_tilematrixes = list(tileset.tilematrix.keys())\n",
    "tilematrix = tileset.tilematrix[list_of_tilematrixes[0]]\n"
   ]
  },
  {
   "cell_type": "code",
   "execution_count": 12,
   "metadata": {},
   "outputs": [],
   "source": [
    "def convert_fin_to_lat_lon(lat, lon,src='epsg:3067'):\n",
    "    proj_latlon = pyproj.Proj(init=src) # default: WGS84\n",
    "    proj_etrs = pyproj.Proj(init='epsg:4326') # ETRS-TM35FIN\n",
    "    transformed = pyproj.transform(proj_latlon, proj_etrs, lon, lat)\n",
    "    return transformed\n"
   ]
  },
  {
   "cell_type": "code",
   "execution_count": 13,
   "metadata": {},
   "outputs": [],
   "source": [
    "def calculate_distance(lat, lon, lat1, lon1):\n",
    "    lat_lon = (lat, lon)\n",
    "    lat_lon1 = (lat1, lon1)\n",
    "    return great_circle(lat_lon, lat_lon1)\n",
    "\n",
    "\n",
    "def distance_meter(lat, lon, lat1, lon1):\n",
    "    return calculate_distance(lat, lon, lat1, lon1).m\n",
    "\n",
    "\n",
    "def distance_kilometer(lat, lon, lat1, lon1):\n",
    "    return calculate_distance(lat, lon, lat1, lon1).km\n",
    "\n",
    "\n",
    "def calculate_distance_finnish(lat, lon, lat1, lon1, distance_type='km'):\n",
    "    get_ = convert_fin_to_lat_lon(lat, lon)\n",
    "    get_1 = convert_fin_to_lat_lon(lat1, lon1)\n",
    "    if distance_type == 'm':\n",
    "        distance_func = distance_meter\n",
    "    else:\n",
    "        distance_func = distance_kilometer\n",
    "    return distance_func(get_[1], get_[0], get_1[1], get_1[0])\n"
   ]
  },
  {
   "cell_type": "code",
   "execution_count": 14,
   "metadata": {},
   "outputs": [],
   "source": [
    "def getWidthHeightCoveredByMatrix(matrix, distance_type=None):\n",
    "    delta_width = matrix.tilewidth * standardized_rendering_pixel_size * matrix.scaledenominator\n",
    "    delta_height = matrix.tileheight * standardized_rendering_pixel_size * matrix.scaledenominator\n",
    "    lon1 = matrix.topleftcorner[0] + delta_width\n",
    "    lat1 = matrix.topleftcorner[1] - delta_height\n",
    "    distance = calculate_distance_finnish(lon=matrix.topleftcorner[0],\n",
    "                                          lat=matrix.topleftcorner[1],\n",
    "                                          lon1=lon1,\n",
    "                                          lat1=lat1, distance_type=distance_type)\n",
    "    return distance\n"
   ]
  },
  {
   "cell_type": "code",
   "execution_count": 41,
   "metadata": {},
   "outputs": [
    {
     "data": {
      "text/plain": [
       "91.1819394726451"
      ]
     },
     "execution_count": 41,
     "metadata": {},
     "output_type": "execute_result"
    }
   ],
   "source": [
    "getWidthHeightCoveredByMatrix(tileset.tilematrix[list_of_tilematrixes[5]])"
   ]
  },
  {
   "cell_type": "code",
   "execution_count": 24,
   "metadata": {},
   "outputs": [],
   "source": [
    "def getBoxesByMatrix(matrix):\n",
    "    delta_width = matrix.tilewidth * standardized_rendering_pixel_size * matrix.scaledenominator\n",
    "    delta_height = matrix.tileheight * standardized_rendering_pixel_size * matrix.scaledenominator\n",
    "    boxes_dict = dict()\n",
    "    for tile_height_pos in range(matrix.matrixheight):\n",
    "        for tile_width_pos in range(matrix.matrixwidth):\n",
    "            left_lon = matrix.topleftcorner[0] + (tile_width_pos * delta_width)\n",
    "            left_lat = matrix.topleftcorner[1] - (tile_height_pos * delta_height)\n",
    "            right_lon = matrix.topleftcorner[0] + ((tile_width_pos + 1) * delta_width)\n",
    "            right_lat = matrix.topleftcorner[1] - ((tile_height_pos + 1) * delta_height)\n",
    "            left = convert_fin_to_lat_lon(lat=left_lat, lon=left_lon)\n",
    "            right = convert_fin_to_lat_lon(right_lat, right_lon)\n",
    "            combined = dict(left=left, right=right)\n",
    "            boxes_dict[tile_height_pos, tile_width_pos] = combined\n",
    "    return boxes_dict\n",
    "\n",
    "def get_boxes_by_df(matrix):\n",
    "    boxes = getBoxesByMatrix(matrix)\n",
    "    df = pd.DataFrame(boxes).T\n",
    "    df_ = pd.concat([df['left'].apply(pd.Series),df['right'].apply(pd.Series)], keys=['left','right'], axis=1)\n",
    "    return df_"
   ]
  },
  {
   "cell_type": "code",
   "execution_count": 42,
   "metadata": {},
   "outputs": [],
   "source": [
    "df_ = get_boxes_by_df(tileset.tilematrix[list_of_tilematrixes[5]])"
   ]
  },
  {
   "cell_type": "code",
   "execution_count": 43,
   "metadata": {},
   "outputs": [],
   "source": [
    "def plot_rectangles(df):\n",
    "\n",
    "    fig,ax = plt.subplots(1,1)\n",
    "    color_items = ['blue','yellow','red','green']\n",
    "    count=0\n",
    "    for x in df.values:\n",
    "        if count == len(color_items):\n",
    "            count =0\n",
    "        rect = plt.Rectangle([x[0],x[1]], x[2]-x[0], x[3]-x[1],color=color_items[count])\n",
    "        count+=1\n",
    "\n",
    "    #     print(rect)\n",
    "        ax.add_patch(rect)\n",
    "    ax.autoscale_view()\n",
    "    "
   ]
  },
  {
   "cell_type": "code",
   "execution_count": 33,
   "metadata": {},
   "outputs": [
    {
     "data": {
      "text/html": [
       "<div>\n",
       "<style scoped>\n",
       "    .dataframe tbody tr th:only-of-type {\n",
       "        vertical-align: middle;\n",
       "    }\n",
       "\n",
       "    .dataframe tbody tr th {\n",
       "        vertical-align: top;\n",
       "    }\n",
       "\n",
       "    .dataframe thead tr th {\n",
       "        text-align: left;\n",
       "    }\n",
       "</style>\n",
       "<table border=\"1\" class=\"dataframe\">\n",
       "  <thead>\n",
       "    <tr>\n",
       "      <th></th>\n",
       "      <th></th>\n",
       "      <th colspan=\"2\" halign=\"left\">left</th>\n",
       "      <th colspan=\"2\" halign=\"left\">right</th>\n",
       "    </tr>\n",
       "    <tr>\n",
       "      <th></th>\n",
       "      <th></th>\n",
       "      <th>0</th>\n",
       "      <th>1</th>\n",
       "      <th>0</th>\n",
       "      <th>1</th>\n",
       "    </tr>\n",
       "  </thead>\n",
       "  <tbody>\n",
       "    <tr>\n",
       "      <th rowspan=\"3\" valign=\"top\">0</th>\n",
       "      <th>1</th>\n",
       "      <td>8.757447</td>\n",
       "      <td>74.853504</td>\n",
       "      <td>27.000000</td>\n",
       "      <td>70.882750</td>\n",
       "    </tr>\n",
       "    <tr>\n",
       "      <th>2</th>\n",
       "      <td>27.000000</td>\n",
       "      <td>75.582570</td>\n",
       "      <td>41.069799</td>\n",
       "      <td>70.335833</td>\n",
       "    </tr>\n",
       "    <tr>\n",
       "      <th>3</th>\n",
       "      <td>45.242553</td>\n",
       "      <td>74.853504</td>\n",
       "      <td>53.699144</td>\n",
       "      <td>68.792674</td>\n",
       "    </tr>\n",
       "    <tr>\n",
       "      <th rowspan=\"4\" valign=\"top\">1</th>\n",
       "      <th>0</th>\n",
       "      <td>0.300856</td>\n",
       "      <td>68.792674</td>\n",
       "      <td>15.509624</td>\n",
       "      <td>65.748556</td>\n",
       "    </tr>\n",
       "    <tr>\n",
       "      <th>1</th>\n",
       "      <td>12.930201</td>\n",
       "      <td>70.335833</td>\n",
       "      <td>27.000000</td>\n",
       "      <td>66.180524</td>\n",
       "    </tr>\n",
       "    <tr>\n",
       "      <th>2</th>\n",
       "      <td>27.000000</td>\n",
       "      <td>70.882750</td>\n",
       "      <td>38.490376</td>\n",
       "      <td>65.748556</td>\n",
       "    </tr>\n",
       "    <tr>\n",
       "      <th>3</th>\n",
       "      <td>41.069799</td>\n",
       "      <td>70.335833</td>\n",
       "      <td>49.191568</td>\n",
       "      <td>64.507315</td>\n",
       "    </tr>\n",
       "    <tr>\n",
       "      <th rowspan=\"4\" valign=\"top\">2</th>\n",
       "      <th>0</th>\n",
       "      <td>4.808432</td>\n",
       "      <td>64.507315</td>\n",
       "      <td>17.243339</td>\n",
       "      <td>61.123252</td>\n",
       "    </tr>\n",
       "    <tr>\n",
       "      <th>1</th>\n",
       "      <td>15.509624</td>\n",
       "      <td>65.748556</td>\n",
       "      <td>27.000000</td>\n",
       "      <td>61.475423</td>\n",
       "    </tr>\n",
       "    <tr>\n",
       "      <th>2</th>\n",
       "      <td>27.000000</td>\n",
       "      <td>66.180524</td>\n",
       "      <td>36.756661</td>\n",
       "      <td>61.123252</td>\n",
       "    </tr>\n",
       "    <tr>\n",
       "      <th>3</th>\n",
       "      <td>38.490376</td>\n",
       "      <td>65.748556</td>\n",
       "      <td>46.037390</td>\n",
       "      <td>60.100640</td>\n",
       "    </tr>\n",
       "    <tr>\n",
       "      <th rowspan=\"4\" valign=\"top\">3</th>\n",
       "      <th>0</th>\n",
       "      <td>7.962610</td>\n",
       "      <td>60.100640</td>\n",
       "      <td>18.476788</td>\n",
       "      <td>56.474125</td>\n",
       "    </tr>\n",
       "    <tr>\n",
       "      <th>1</th>\n",
       "      <td>17.243339</td>\n",
       "      <td>61.123252</td>\n",
       "      <td>27.000000</td>\n",
       "      <td>56.767054</td>\n",
       "    </tr>\n",
       "    <tr>\n",
       "      <th>2</th>\n",
       "      <td>27.000000</td>\n",
       "      <td>61.475423</td>\n",
       "      <td>35.523212</td>\n",
       "      <td>56.474125</td>\n",
       "    </tr>\n",
       "    <tr>\n",
       "      <th>3</th>\n",
       "      <td>36.756661</td>\n",
       "      <td>61.123252</td>\n",
       "      <td>43.738003</td>\n",
       "      <td>55.617964</td>\n",
       "    </tr>\n",
       "  </tbody>\n",
       "</table>\n",
       "</div>"
      ],
      "text/plain": [
       "          left                 right           \n",
       "             0          1          0          1\n",
       "0 1   8.757447  74.853504  27.000000  70.882750\n",
       "  2  27.000000  75.582570  41.069799  70.335833\n",
       "  3  45.242553  74.853504  53.699144  68.792674\n",
       "1 0   0.300856  68.792674  15.509624  65.748556\n",
       "  1  12.930201  70.335833  27.000000  66.180524\n",
       "  2  27.000000  70.882750  38.490376  65.748556\n",
       "  3  41.069799  70.335833  49.191568  64.507315\n",
       "2 0   4.808432  64.507315  17.243339  61.123252\n",
       "  1  15.509624  65.748556  27.000000  61.475423\n",
       "  2  27.000000  66.180524  36.756661  61.123252\n",
       "  3  38.490376  65.748556  46.037390  60.100640\n",
       "3 0   7.962610  60.100640  18.476788  56.474125\n",
       "  1  17.243339  61.123252  27.000000  56.767054\n",
       "  2  27.000000  61.475423  35.523212  56.474125\n",
       "  3  36.756661  61.123252  43.738003  55.617964"
      ]
     },
     "execution_count": 33,
     "metadata": {},
     "output_type": "execute_result"
    }
   ],
   "source": [
    "\n",
    "df_.shape\n",
    "#example on how search for certain things in multindexed panda dataframe:\n",
    "# 1 is N/Latitude 0 is E/Longitude\n",
    "df_[df_['left'][0]>0]"
   ]
  },
  {
   "cell_type": "code",
   "execution_count": 45,
   "metadata": {},
   "outputs": [
    {
     "data": {
      "image/png": "[encoded data removed]",
      "text/plain": [
       "<Figure size 432x288 with 1 Axes>"
      ]
     },
     "metadata": {
      "needs_background": "light"
     },
     "output_type": "display_data"
    }
   ],
   "source": [
    "plot_rectangles(df_)"
   ]
  },
  {
   "cell_type": "code",
   "execution_count": 99,
   "metadata": {},
   "outputs": [],
   "source": [
    "lat=5\n",
    "lon=73\n",
    "index_ = df_[(df_['left'][0]<=lat) &(lat<=df_['right'][0]) & (df_['left'][1]>=lon) & (lon>=df_['right'][1])].index\n",
    "codes = index_.to_list()[-1]"
   ]
  },
  {
   "cell_type": "code",
   "execution_count": 98,
   "metadata": {},
   "outputs": [
    {
     "data": {
      "text/plain": [
       "(2, 5)"
      ]
     },
     "execution_count": 98,
     "metadata": {},
     "output_type": "execute_result"
    }
   ],
   "source": []
  },
  {
   "cell_type": "code",
   "execution_count": null,
   "metadata": {},
   "outputs": [],
   "source": []
  }
 ],
 "metadata": {
  "kernelspec": {
   "display_name": "Python 3",
   "language": "python",
   "name": "python3"
  },
  "language_info": {
   "codemirror_mode": {
    "name": "ipython",
    "version": 3
   },
   "file_extension": ".py",
   "mimetype": "text/x-python",
   "name": "python",
   "nbconvert_exporter": "python",
   "pygments_lexer": "ipython3",
   "version": "3.6.6"
  }
 },
 "nbformat": 4,
 "nbformat_minor": 2
}
