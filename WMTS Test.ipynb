{
 "cells": [
  {
   "cell_type": "code",
   "execution_count": null,
   "metadata": {},
   "outputs": [],
   "source": [
    "from owslib.wmts import WebMapTileService\n",
    "import pandas as pd\n",
    "from geopy.distance import great_circle\n",
    "import matplotlib.pyplot as plt\n",
    "import pyproj\n",
    "from IPython.display import Image, display\n",
    "import math\n",
    "import time\n"
   ]
  },
  {
   "cell_type": "markdown",
   "metadata": {},
   "source": [
    "## Experimental Testing for getting photo's out of multiple WMTS servers.\n",
    "This Notebook experiments with a way  to get photo's as a datasource to later integrate it into the SailingRobots Website. \n",
    "\n",
    "The static variables like the website and the normal map layer."
   ]
  },
  {
   "cell_type": "code",
   "execution_count": null,
   "metadata": {},
   "outputs": [],
   "source": [
    "try:\n",
    "    wmts_avoin = WebMapTileService('https://avoin-karttakuva.maanmittauslaitos.fi/avoin/wmts')\n",
    "    time.sleep(0.01)\n",
    "    wmts_maasto = WebMapTileService('https://karttamoottori.maanmittauslaitos.fi/maasto/wmts')\n",
    "except Exception as e:\n",
    "    print(e)\n",
    "tile_matrix_set_name = 'ETRS-TM35FIN'\n",
    "map_layer = 'ortokuva'\n",
    "standardized_rendering_pixel_size = 0.00028\n"
   ]
  },
  {
   "cell_type": "markdown",
   "metadata": {},
   "source": [
    "The webmap tile service can be used for getting the images and calculating the coordinates of them"
   ]
  },
  {
   "cell_type": "code",
   "execution_count": null,
   "metadata": {},
   "outputs": [],
   "source": [
    "def get_info_wmts(wmts):\n",
    "    print('possible maps:', list(wmts.contents.keys()))\n",
    "    print('possible coordinate system:', list(wmts.tilematrixsets.keys()))\n",
    "    print('possible formats :', list(wmts.contents[map_layer].formats))\n",
    "    print('length of the formats', len(wmts.tilematrixsets[tile_matrix_set_name].tilematrix))\n",
    "\n",
    "\n",
    "get_info_wmts(wmts_avoin)\n"
   ]
  },
  {
   "cell_type": "markdown",
   "metadata": {},
   "source": [
    "The data from the xml that cannot be parsed yet\n",
    "```xml\n",
    "<ows:LowerCorner>-548576.000000 6291456.000000</ows:LowerCorner>\n",
    "<ows:UpperCorner>1548576.000000 8388608.000000</ows:UpperCorner>\n",
    "```\n",
    "it is in the following format <lon,lat>\n",
    "```python\n",
    "   #ll = LowerCorner\n",
    "   #ur = UpperCorner\n",
    " self.boundingBoxWGS84 = (ll[0], ll[1], ur[0], ur[1])\n",
    " ```\n"
   ]
  },
  {
   "cell_type": "code",
   "execution_count": null,
   "metadata": {},
   "outputs": [],
   "source": [
    "def convert_coordinate_systems(lat, lon, inverse=False, src='epsg:3067', destination='epsg:4326'):\n",
    "    \"\"\"Converts Coordinate System to a different System.\n",
    "    Default From Finnish System(ETRS-TM35FIN) to WGS84. If inverse is passed then they are swapped around.\n",
    "    \"\"\"\n",
    "    if inverse:\n",
    "        src, destination = destination, src\n",
    "    proj_src = pyproj.Proj(init=src)\n",
    "    proj_dest = pyproj.Proj(init=destination)\n",
    "    transformed = pyproj.transform(proj_src, proj_dest, lon, lat)\n",
    "    return transformed\n"
   ]
  },
  {
   "cell_type": "code",
   "execution_count": null,
   "metadata": {},
   "outputs": [],
   "source": [
    "def calculate_distance(lat, lon, lat1, lon1):\n",
    "    lat_lon = (lat, lon)\n",
    "    lat_lon1 = (lat1, lon1)\n",
    "    return great_circle(lat_lon, lat_lon1)\n",
    "\n",
    "\n",
    "def distance_meter(lat, lon, lat1, lon1):\n",
    "    return calculate_distance(lat, lon, lat1, lon1).m\n",
    "\n",
    "\n",
    "def distance_kilometer(lat, lon, lat1, lon1):\n",
    "    return calculate_distance(lat, lon, lat1, lon1).km\n",
    "\n",
    "\n",
    "def calculate_distance_finnish(lat, lon, lat1, lon1, distance_type='km'):\n",
    "    get_ = convert_coordinate_systems(lat, lon)\n",
    "    get_1 = convert_coordinate_systems(lat1, lon1)\n",
    "    if distance_type == 'm':\n",
    "        distance_func = distance_meter\n",
    "    else:\n",
    "        distance_func = distance_kilometer\n",
    "    return distance_func(get_[1], get_[0], get_1[1], get_1[0])\n"
   ]
  },
  {
   "cell_type": "code",
   "execution_count": null,
   "metadata": {},
   "outputs": [],
   "source": [
    "def get_width_height_covered_by_matrix(matrix, distance_type=None):\n",
    "    delta_width = matrix.tilewidth * standardized_rendering_pixel_size * matrix.scaledenominator\n",
    "    delta_height = matrix.tileheight * standardized_rendering_pixel_size * matrix.scaledenominator\n",
    "    lon1 = matrix.topleftcorner[0] + delta_width\n",
    "    lat1 = matrix.topleftcorner[1] - delta_height\n",
    "    distance = calculate_distance_finnish(lon=matrix.topleftcorner[0],\n",
    "                                          lat=matrix.topleftcorner[1],\n",
    "                                          lon1=lon1,\n",
    "                                          lat1=lat1, distance_type=distance_type)\n",
    "    return distance\n"
   ]
  },
  {
   "cell_type": "code",
   "execution_count": null,
   "metadata": {},
   "outputs": [],
   "source": [
    "def get_boxes_by__matrix(matrix):\n",
    "    delta_width = matrix.tilewidth * standardized_rendering_pixel_size * matrix.scaledenominator\n",
    "    delta_height = matrix.tileheight * standardized_rendering_pixel_size * matrix.scaledenominator\n",
    "    boxes_dict = dict()\n",
    "    for tile_height_pos in range(matrix.matrixheight):\n",
    "        for tile_width_pos in range(matrix.matrixwidth):\n",
    "            left_lon = matrix.topleftcorner[0] + (tile_width_pos * delta_width)\n",
    "            left_lat = matrix.topleftcorner[1] - (tile_height_pos * delta_height)\n",
    "            right_lon = matrix.topleftcorner[0] + ((tile_width_pos + 1) * delta_width)\n",
    "            right_lat = matrix.topleftcorner[1] - ((tile_height_pos + 1) * delta_height)\n",
    "            left = convert_coordinate_systems(lat=left_lat, lon=left_lon)\n",
    "            right = convert_coordinate_systems(right_lat, right_lon)\n",
    "\n",
    "            combined = dict(left=left, right=right)\n",
    "            boxes_dict[tile_height_pos, tile_width_pos] = combined\n",
    "    return boxes_dict\n",
    "\n",
    "\n",
    "def get_single_by_matrix(matrix, lat, lon):\n",
    "    delta_width = matrix.tilewidth * standardized_rendering_pixel_size * matrix.scaledenominator\n",
    "    delta_height = matrix.tileheight * standardized_rendering_pixel_size * matrix.scaledenominator\n",
    "    finn_coordinates = convert_coordinate_systems(lat=lat, lon=lon, inverse=True)\n",
    "\n",
    "    width = math.trunc((finn_coordinates[0] - matrix.topleftcorner[0]) / delta_width)\n",
    "    height = math.trunc((matrix.topleftcorner[1] - finn_coordinates[1]) / delta_height)\n",
    "    return height, width\n",
    "\n",
    "\n",
    "def get_boxes_by_df(matrix):\n",
    "    boxes = get_boxes_by__matrix(matrix)\n",
    "    df = pd.DataFrame(boxes).T\n",
    "    df_ = pd.concat([df['left'].apply(pd.Series), df['right'].apply(pd.Series)], keys=['left', 'right'], axis=1)\n",
    "    return df_\n"
   ]
  },
  {
   "cell_type": "code",
   "execution_count": null,
   "metadata": {},
   "outputs": [],
   "source": [
    "def plot_rectangles(df):\n",
    "    fig, ax = plt.subplots(1, 1)\n",
    "    color_items = ['blue', 'yellow', 'red', 'green']\n",
    "    count = 0\n",
    "    for x in df.values:\n",
    "        if count == len(color_items):\n",
    "            count = 0\n",
    "        rect = plt.Rectangle((x[0], x[1]), x[2] - x[0], x[3] - x[1], color=color_items[count])\n",
    "        count += 1\n",
    "        ax.add_patch(rect)\n",
    "    ax.autoscale_view()\n"
   ]
  },
  {
   "cell_type": "markdown",
   "metadata": {},
   "source": [
    "1 is N/Latitude 0 is E/Longitude"
   ]
  },
  {
   "cell_type": "code",
   "execution_count": null,
   "metadata": {},
   "outputs": [],
   "source": [
    "def get_column_row_for_coordinate_at_level(latitude, longitude, wmts_, tileset=None, level=2, df=None):\n",
    "    if tileset == None and df == None:\n",
    "        tileset = wmts_.tilematrixsets[tile_matrix_set_name]\n",
    "        list_of_tilematrixes = list(tileset.tilematrix.keys())\n",
    "        df = get_boxes_by_df(tileset.tilematrix[list_of_tilematrixes[level]])\n",
    "    searched_df = df[(df['left'][0] <= longitude)\n",
    "                     & (longitude <= df['right'][0])\n",
    "                     & (df['left'][1] >= latitude)\n",
    "                     & (latitude >= df['right'][1])]\n",
    "    index_ = searched_df.index\n",
    "    if len(index_.to_list()) == 0:\n",
    "        print(index_)\n",
    "        display(df)\n",
    "        display(searched_df)\n",
    "\n",
    "        return\n",
    "    codes = index_.to_list()[-1]\n",
    "    return codes, df\n",
    "\n",
    "\n",
    "def get_column_row_for_coordinate_at_level_single(latitude, longitude, wmts, tileset=None, level=2):\n",
    "    if tileset == None:\n",
    "        tileset = wmts.tilematrixsets[tile_matrix_set_name]\n",
    "        list_of_tilematrixes = list(tileset.tilematrix.keys())\n",
    "\n",
    "        codes = get_single_by_matrix(tileset.tilematrix[list_of_tilematrixes[level]], lat=latitude, lon=longitude)\n",
    "        return codes\n"
   ]
  },
  {
   "cell_type": "code",
   "execution_count": null,
   "metadata": {},
   "outputs": [],
   "source": [
    "def get_image_for_coordinate(latitude, longitude, level, wmts_, specified_map_layer=map_layer):\n",
    "    codes = get_column_row_for_coordinate_at_level_single(latitude=latitude,\n",
    "                                                          longitude=longitude,\n",
    "                                                          wmts=wmts_,\n",
    "                                                          level=level)\n",
    "    tile = wmts_.gettile(layer=specified_map_layer,\n",
    "                         tilematrixset=tile_matrix_set_name,\n",
    "                         tilematrix='{0}'.format(level),\n",
    "                         row=codes[0],\n",
    "                         column=codes[1],\n",
    "                         format=\"image/jpeg\")\n",
    "    out = open('test.jpg', 'wb')\n",
    "    out.write(tile.read())\n",
    "    out.close()\n",
    "    display(Image(filename='test.jpg'))\n"
   ]
  },
  {
   "cell_type": "code",
   "execution_count": null,
   "metadata": {},
   "outputs": [],
   "source": [
    "get_image_for_coordinate(60.062936, 19.968358, level=15, wmts_=wmts_avoin)\n",
    "get_image_for_coordinate(60.062936, 19.968358, level=15, wmts_=wmts_maasto)\n",
    "get_image_for_coordinate(60.062936, 19.968358, level=15, wmts_=wmts_maasto, specified_map_layer='ortokuva_vaaravari')\n"
   ]
  }
 ],
 "metadata": {
  "kernelspec": {
   "display_name": "Python 3",
   "language": "python",
   "name": "python3"
  },
  "language_info": {
   "codemirror_mode": {
    "name": "ipython",
    "version": 3
   },
   "file_extension": ".py",
   "mimetype": "text/x-python",
   "name": "python",
   "nbconvert_exporter": "python",
   "pygments_lexer": "ipython3",
   "version": "3.6.6"
  }
 },
 "nbformat": 4,
 "nbformat_minor": 2
}
