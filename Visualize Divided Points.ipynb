{
 "cells": [
  {
   "cell_type": "code",
   "execution_count": 1,
   "metadata": {},
   "outputs": [],
   "source": [
    "import matplotlib.pyplot as plt\n",
    "import WMTS_Single_Tile_Based as single_tile\n",
    "from data_resources import fileToObjects as fetcher, transformObjects as transformer\n",
    "from PIL import Image\n",
    "from bokeh.plotting import figure, show, output_file\n",
    "from bokeh.io import output_notebook\n",
    "from bokeh.layouts import row, gridplot\n",
    "\n",
    "configuration = fetcher.get_configuration()\n",
    "# output_notebook()\n"
   ]
  },
  {
   "cell_type": "code",
   "execution_count": 2,
   "metadata": {},
   "outputs": [],
   "source": [
    "def get_datapoints(sample, data_source, level):\n",
    "    data_points = list()\n",
    "    for index, row in sample.iterrows():\n",
    "        point_dict = transformer.create_info_object_from_panda_row(row, data_source['coordinate_system'], level)\n",
    "        images_and_info = single_tile.get_information_for_tile(point_dict, configuration, 'ava_normal_color')\n",
    "        images_and_info.depth = row['height']\n",
    "        data_points.append(images_and_info)\n",
    "    return data_points\n",
    "\n",
    "\n",
    "def get_set_from_datapoints(data_source, sample_size, level, latitude_range=None, longitude_range=None,\n",
    "                            no_sample=False):\n",
    "    df = fetcher.open_xyz_file_as_panda(data_source['name'])\n",
    "    if latitude_range != None and longitude_range != None:\n",
    "        df = df[(latitude_range[0] <= df.latitude)\n",
    "                & (df.latitude <= latitude_range[1])\n",
    "                & (longitude_range[0] <= df.longitude)\n",
    "                & (df.longitude <= longitude_range[1])]\n",
    "        if df.shape[0] == 0:\n",
    "            return None\n",
    "    if no_sample:\n",
    "        sample = df\n",
    "    else:\n",
    "        sample = df.sample(sample_size)\n",
    "    return get_datapoints(sample, data_source, level)\n"
   ]
  },
  {
   "cell_type": "code",
   "execution_count": 3,
   "metadata": {},
   "outputs": [],
   "source": [
    "def get_range(value, tiles):\n",
    "    min_value = min(i.__dict__[value] for i in tiles)\n",
    "    max_value = max(i.__dict__[value] for i in tiles)\n",
    "    ranged = list(range(min_value, max_value + 1))\n",
    "    if len(ranged) == 0:\n",
    "        return [min_value]\n",
    "    else:\n",
    "        return ranged\n",
    "\n",
    "\n",
    "def get_missing_tiles(tiles, wmt, layer):\n",
    "    rows_ = get_range('row', tiles)\n",
    "    columns_ = get_range('column', tiles)\n",
    "    amount_of_tiles = len(layer.image_tiles)\n",
    "    levels_ = get_range('level', tiles)\n",
    "    checked_set = set((i.level, i.row, i.column) for i in tiles)\n",
    "\n",
    "    for level in levels_:\n",
    "        for row in rows_:\n",
    "            for column in columns_:\n",
    "                if (level, row, column) not in checked_set:\n",
    "                    single_tile.add_tile(wmt, layer, row, column)\n",
    "                    if len(layer.image_tiles) - amount_of_tiles % 50 == 0:\n",
    "                        print('added', len(layer.image_tiles) - amount_of_tiles, 'tiles')\n",
    "\n",
    "\n",
    "def compare(normal):\n",
    "    return normal.level, normal.row, normal.column\n"
   ]
  },
  {
   "cell_type": "code",
   "execution_count": 4,
   "metadata": {},
   "outputs": [],
   "source": [
    "def plot_data_points(data_dict, points, im, x_offset, y_offset, color, name):\n",
    "    for point_ in points:\n",
    "        image_tile = point_.image_points[0].image_tile\n",
    "        if im.level == image_tile.level and im.row == image_tile.row and im.column == image_tile.column:\n",
    "            image_location = point_.image_points[-1].data_point_in_image\n",
    "            data_point = point_.data_point\n",
    "            data_dict['x'].append(image_location.width + x_offset)\n",
    "            data_dict['y'].append(image_location.height + y_offset)\n",
    "            data_dict['lat'].append(data_point.latitude)\n",
    "            data_dict['lon'].append(data_point.longitude)\n",
    "            data_dict['name'].append(name)\n",
    "            data_dict['color'].append(color)\n",
    "            data_dict['depth'].append(point_.depth)\n"
   ]
  },
  {
   "cell_type": "code",
   "execution_count": 5,
   "metadata": {},
   "outputs": [],
   "source": [
    "level = 15\n",
    "datasets = list()\n",
    "for source in fetcher.get_data_sources():\n",
    "    sample_set = get_set_from_datapoints(source, 800, level, (6850000, 6851548), (628982, 630582))\n",
    "    if sample_set is not None:\n",
    "        datasets.append({\"items\": sample_set, \"color\": source[\"color\"], \"name\": source[\"name\"]})\n",
    "web_map, layer = single_tile.get_specific_layer(configuration, 'ava_normal_color')\n",
    "get_missing_tiles(layer.image_tiles, web_map, layer)\n",
    "images = layer.image_tiles\n",
    "sorted_images = sorted(images, key=compare)\n"
   ]
  },
  {
   "cell_type": "code",
   "execution_count": 8,
   "metadata": {},
   "outputs": [],
   "source": [
    "TOOLS = \"pan,hover,zoom_in,zoom_out,reset\"\n",
    "\n",
    "widths = len(set(i.column for i in sorted_images))\n",
    "heights = len(set(i.row for i in sorted_images))\n",
    "new_im = Image.new('RGB', (widths * 256, heights * 256))\n",
    "\n",
    "x_offset = 0\n",
    "y_offset = 0\n",
    "previous_im = None\n",
    "data_dict = dict(x=list(), y=list(), name=list(), color=list(), lat=list(), lon=list(), depth=list())\n",
    "for im in sorted_images:\n",
    "    if previous_im is not None and previous_im.column != im.column:\n",
    "        x_offset += im.image.size[0]\n",
    "    if previous_im is not None and previous_im.row != im.row:\n",
    "        y_offset += im.image.size[1]\n",
    "        x_offset = 0\n",
    "    new_im.paste(im.image, (x_offset, y_offset))\n",
    "    for dataset in datasets:\n",
    "        plot_data_points(data_dict, dataset[\"items\"], im, x_offset, y_offset, dataset[\"color\"], dataset[\"name\"])\n",
    "    previous_im = im\n",
    "\n",
    "new_im.save('image.jpg')\n",
    "\n",
    "p = figure(x_range=(0, new_im.width), y_range=(new_im.height, 0), tools=TOOLS, match_aspect=True,\n",
    "           tooltips=[(\"Source\", \"@name\"), (\"Lat\", \"@lat{0,0.000}\"), (\"Long\", \"@lon{0,0.000}\"), (\"Depth\", \"@depth\")]\n",
    "           )\n",
    "p.image_url(url=['image.jpg'], x=0, y=0, w=new_im.width, h=new_im.height, anchor=\"top_left\")\n",
    "p.circle('x', 'y', source=data_dict, color='color')\n",
    "output_file(\"pointsplot.html\", title=\"Divided Points\")\n",
    "show(p)\n"
   ]
  }
 ],
 "metadata": {
  "kernelspec": {
   "display_name": "Python 3",
   "language": "python",
   "name": "python3"
  },
  "language_info": {
   "codemirror_mode": {
    "name": "ipython",
    "version": 3
   },
   "file_extension": ".py",
   "mimetype": "text/x-python",
   "name": "python",
   "nbconvert_exporter": "python",
   "pygments_lexer": "ipython3",
   "version": "3.7.2"
  }
 },
 "nbformat": 4,
 "nbformat_minor": 1
}
